{
  "cells": [
    {
      "cell_type": "markdown",
      "metadata": {
        "id": "view-in-github",
        "colab_type": "text"
      },
      "source": [
        "<a href=\"https://colab.research.google.com/github/bulikatan/MNB/blob/main/Stacked_BiLSTM_Model_Sentiment_Analyzer.ipynb\" target=\"_parent\"><img src=\"https://colab.research.google.com/assets/colab-badge.svg\" alt=\"Open In Colab\"/></a>"
      ]
    },
    {
      "cell_type": "markdown",
      "metadata": {
        "id": "zekrDX9mDrNl"
      },
      "source": [
        "#**Preliminaries**"
      ]
    },
    {
      "cell_type": "markdown",
      "metadata": {
        "id": "Qlzf5LFcAWKC"
      },
      "source": [
        "# **# Set Up**"
      ]
    },
    {
      "cell_type": "markdown",
      "metadata": {
        "id": "Jhia0dBoawaZ"
      },
      "source": [
        "Almost all NLP task including Sentiment Analysis which is used to understand public  reception of the product use language models. The general setup is that we have a language and we build a model for the language. Language models have been train to host the task like language translation, question answering and among others.\n",
        "\n",
        "For sentiment analysis task we have used it to determine whether comments are pos, neg, or neut and how opinionated they are.SA is a NLP technique of identifying trends and inclination of the masses through the representative information available"
      ]
    },
    {
      "cell_type": "code",
      "execution_count": 1,
      "metadata": {
        "id": "dIvZLb76z3I8",
        "colab": {
          "base_uri": "https://localhost:8080/"
        },
        "outputId": "c180f9c4-c762-4e1f-d2df-5c482bbdc29c"
      },
      "outputs": [
        {
          "output_type": "stream",
          "name": "stdout",
          "text": [
            "Mounted at /content/drive/\n"
          ]
        }
      ],
      "source": [
        "#mount drive\n",
        "from google.colab import drive\n",
        "drive.mount('/content/drive/')"
      ]
    },
    {
      "cell_type": "code",
      "execution_count": 2,
      "metadata": {
        "id": "In2AV_S2h0Sl"
      },
      "outputs": [],
      "source": [
        "import os\n",
        "\n",
        "os.chdir(\"/content/drive/MyDrive/Colab Notebooks/data\")\n",
        "cwd = os.getcwd()  # Get the current working directory (cwd)\n",
        "files = os.listdir(cwd)  # Get all the files in that directory\n",
        "#print(\"Files in %r: %s\" % (cwd, files))"
      ]
    },
    {
      "cell_type": "code",
      "execution_count": 3,
      "metadata": {
        "id": "vJgxf7Eb0g-D"
      },
      "outputs": [],
      "source": [
        "#libraries and functions\n",
        "\n",
        "import numpy as np\n",
        "import re\n",
        "import seaborn as sns\n",
        "\n",
        "import gensim\n",
        "from gensim.models import word2vec\n",
        "import matplotlib.pyplot as plt\n",
        "\n",
        "import nltk\n",
        "from nltk.tokenize import sent_tokenize,word_tokenize\n",
        "\n",
        "from sklearn.feature_extraction.text import CountVectorizer\n",
        "from sklearn.model_selection import train_test_split\n",
        "\n",
        "import pandas as pd\n",
        "\n",
        "dataSet = pd.read_csv('/content/drive/MyDrive/Dataset/BINARYDATASET.CSV')\n",
        "df =pd.DataFrame(dataSet)\n",
        "\n",
        "#EDA (Structure and Quantity)\n",
        "#f.isnull().sum() # Determine whether there are any missing values in our dataframe\n",
        "#df.isna().sum()\n",
        "#df=df.dropna()    # drop empty rows, impute null values\n",
        "\n",
        "#converting POLARITY column into numeric target \n",
        "#df['POLARITY']=df.POLARITY.map({'POSITIVE':1,'NEGATIVE':0})\n",
        "df['POLARITY'].replace({'POSITIVE':1,'NEGATIVE':0},inplace=True)"
      ]
    },
    {
      "cell_type": "markdown",
      "metadata": {
        "id": "dYDgUGfFdarN"
      },
      "source": [
        "**`Step 1. Text Prepocessing**`\n",
        "0. Convert all characters to lowercase.\n",
        "1. Remove digits       \n",
        "2. Extend Contractions\n",
        "3. Remove Punctuations       \n",
        "4. Remove ASCII characters\n",
        "5. Change Morphemes (all e's to i's and o's to u's)\n",
        "6. Remove Single Character String"
      ]
    },
    {
      "cell_type": "markdown",
      "metadata": {
        "id": "ygNhQvEl7Pqm"
      },
      "source": [
        "# **Data Preprocessing**"
      ]
    },
    {
      "cell_type": "code",
      "execution_count": 4,
      "metadata": {
        "id": "i-8QWhRT11KB"
      },
      "outputs": [],
      "source": [
        "import string\n",
        "def convert_tolowercase(text):\n",
        "    for word in range(len(text)):\n",
        "        text[word] = text[word].lower()       \n",
        "    return text"
      ]
    },
    {
      "cell_type": "code",
      "execution_count": 5,
      "metadata": {
        "id": "XkGvQZG7g4ZR"
      },
      "outputs": [],
      "source": [
        "#Remove the word with a number\n",
        "def remove_digits(text):\n",
        "    new_words = []\n",
        "    for word in text:\n",
        "        new_word=re.sub(r\"\\d+\", \"\", word)\n",
        "        if new_word != '':\n",
        "           new_words.append(new_word)\n",
        "    return new_words"
      ]
    },
    {
      "cell_type": "code",
      "execution_count": 6,
      "metadata": {
        "colab": {
          "base_uri": "https://localhost:8080/"
        },
        "id": "0egKFAt5K7tm",
        "outputId": "31d311ad-3d96-4fce-85df-7fddafa4a7b6"
      },
      "outputs": [
        {
          "output_type": "stream",
          "name": "stderr",
          "text": [
            "[nltk_data] Downloading package punkt to /root/nltk_data...\n",
            "[nltk_data]   Unzipping tokenizers/punkt.zip.\n"
          ]
        }
      ],
      "source": [
        "import re\n",
        "import nltk\n",
        "\n",
        "nltk.download('punkt')\n",
        "import string\n",
        "from nltk.tokenize import word_tokenize\n",
        "#from nltk.corpus import stopwords\n",
        "#from nltk.stem.porter import PorterStemmer\n",
        "\n",
        "def clean_text(lines):\n",
        "    all_reviews = list()\n",
        "  #  lines = df[\"REVIEWS\"].tolist()\n",
        "    for text in lines:\n",
        "        text = text.lower()\n",
        "        \n",
        "        pattern = re.compile('http[s]?://(?:[a-zA-Z]|[0-9]|[$-_@.&+]|[!*\\(\\),]|(?:%[0-9a-fA-F][0-9a-fA-F]))+')\n",
        "        text = pattern.sub('', text)\n",
        "        \n",
        "        emoji = re.compile(\"[\"\n",
        "                           u\"\\U0001F600-\\U0001FFFF\"  # emoticons\n",
        "                           u\"\\U0001F300-\\U0001F5FF\"  # symbols & pictographs\n",
        "                           u\"\\U0001F680-\\U0001F6FF\"  # transport & map symbols\n",
        "                           u\"\\U0001F1E0-\\U0001F1FF\"  # flags (iOS)\n",
        "                           u\"\\U00002702-\\U000027B0\"\n",
        "                           u\"\\U000024C2-\\U0001F251\"\n",
        "                           \"]+\", flags=re.UNICODE)\n",
        "        text = emoji.sub(r'', text)\n",
        "        \n",
        "        text = re.sub(r\"i'm\", \"i am\", text)\n",
        "        text = re.sub(r\"he's\", \"he is\", text)\n",
        "        text = re.sub(r\"she's\", \"she is\", text)\n",
        "        text = re.sub(r\"that's\", \"that is\", text)        \n",
        "        text = re.sub(r\"what's\", \"what is\", text)\n",
        "        text = re.sub(r\"where's\", \"where is\", text) \n",
        "        text = re.sub(r\"\\'ll\", \" will\", text)  \n",
        "        text = re.sub(r\"\\'ve\", \" have\", text)  \n",
        "        text = re.sub(r\"\\'re\", \" are\", text)\n",
        "        text = re.sub(r\"\\'d\", \" would\", text)\n",
        "        text = re.sub(r\"\\'ve\", \" have\", text)\n",
        "        text = re.sub(r\"won't\", \"will not\", text)\n",
        "        text = re.sub(r\"don't\", \"do not\", text)\n",
        "        text = re.sub(r\"did't\", \"did not\", text)\n",
        "        text = re.sub(r\"can't\", \"can not\", text)\n",
        "        text = re.sub(r\"it's\", \"it is\", text)\n",
        "        text = re.sub(r\"couldn't\", \"could not\", text)\n",
        "        text = re.sub(r\"have't\", \"have not\", text)\n",
        "        \n",
        "        text = re.sub(r\"[,.\\\"!@#$%^&*(){}?/;`~:<>+=-]\", \"\", text)\n",
        "        tokens = word_tokenize(text)\n",
        "        table = str.maketrans('', '', string.punctuation)\n",
        "        stripped = [w.translate(table) for w in tokens]\n",
        "        words = [word for word in stripped if word.isalpha()]\n",
        "#         stop_words = set(stopwords.words(\"english\"))\n",
        "#         stop_words.discard(\"not\")\n",
        "#         words = [w for w in words if not w in stop_words]\n",
        "        words = ' '.join(words)\n",
        "        all_reviews.append(words)\n",
        "    return all_reviews\n",
        "\n",
        "#all_reviews = clean_text(data)\n",
        "#all_reviews[0:20]"
      ]
    },
    {
      "cell_type": "code",
      "execution_count": 7,
      "metadata": {
        "id": "gD-PExoFlLNR"
      },
      "outputs": [],
      "source": [
        "contractions={ \n",
        "    \"kuwarto\":\"kwarto\",\"kuwarta\":\"kwarta\",\n",
        "    \"abogasiya\":\"abogasya\",\n",
        "    \"adunay\":\"aduna may\",\n",
        "   \"agi'g\":\"agi ug\", \"agi'g\":\"agi ug\",\n",
        "    \"angay'ng\":\"angay nga\",\n",
        "    \"asa'y\":\"asa may\",\n",
        "    \"ato'ng\":\"ato nga\",\n",
        "    \"atoang\":\"atoa nga\",\n",
        "    \"aduna'y\":\"aduna may\",\"adunaha'ng\":\"adunahan nga\",\n",
        "    \"ako'y\":\"ako may\",\"apektado'ng\":\"apektado nga\",\"adlaw'ng\":\"adlaw nga\",\n",
        "    \"bahala'g\":\"bahala ug\",\"ba'y\":\"ba diay\",\"bali'g\":\"bali ug\",\n",
        "    \"banay'ng\":\" banay nga\",\n",
        "    \"bisa'g\":\"bisan ug\",\n",
        "    \"diay'g\":\"diay ug\",\"dako'ng\":\"dako nga\",\"duna'y\":\"duna may\",\"dayo'g\":\"dayon ug\",\n",
        "    \"dako'ng\":\"dako nga\",\n",
        "    \"du't\":\"duot\",\n",
        "    \"gagmay'ng\":\"gagmay nga\",\"ginagmay'ng\":\"ginagmay nga\",\n",
        "    \"gamay'ng\":\"gamay nga\",\"gamayng\":\"gamay nga\",\n",
        "    \"gyu'y\":\"gyud may\",\"gayu'y\":\"gyud may\",\"gyuy\":\"gayud may\",\"g'yuy\":\"gyud may\",\n",
        "    \"g'yud\":\"gayud\", # \n",
        "    \"iro'ng\":\"iro nga\",\"kanato'ng\":\"kanato nga\",\"inadlaw'ng\":\"inadlaw nga\",\n",
        "    \"gihimong\":\"gihimo nga\", \"nahimong\":\"nahimo nga\",\"nakahimong\":\"nakahimo nga\",\n",
        "    \"iyang\":\"iya nga\",\n",
        "    \"kini'g\":\"kini ug\",\n",
        "    \"kita'g\":\"kita ug\",\n",
        "    \"la'g\":\"lang ug\",\"langyaw'ng\":\"langyaw nga\",\"hinuo'y\":\"hinuon may\",\"mo'g\":\"mo ug\",\n",
        "    \"maghimo'g\":\"maghimo ug\",  \n",
        "    \"mangita'g\":\"mangita ug\",\n",
        "    \"mura'g\":\"mura ug\",\"magkunsumo'g\":\"magkunsumo ug\",\"makapaagni'g\":\"makapaagni ug\",\n",
        "    \"mangita'g\":\"mangita ug\",\n",
        "    \"mipasaka'g\":\"mipasaka ug\",\n",
        "    \"pagpangita'g\":\"pagpangita ug\",\n",
        "    \"mi'g\":\"kami ug\",\"mo'y\":\"mo may\",\"mao'y\":\"mao may\",\"magmaneho'g\":\"magmaneho ug\",\n",
        "    \"magsigeg\":\"magsige ug\",\n",
        "    \"milabay'ng\":\"milabay'ng\",\"maayo'ng\":\"maayo nga\",\"inantigo'ng\":\"inantigo nga\",\n",
        "    \"nahibu'ng\":\"nahibulong\",\n",
        "    \"nahuptan'g\":\"nahuptan nga\",\n",
        "    \"madutla'g\":\"madutlan ug\",\n",
        "    \"mura'g\":\"mura ug\",\n",
        "    \"nakalabay'ng\":\"nakalabay nga\",\n",
        "    \"nila'g\":\"nila ug\",\n",
        "    \"naghimo'g\":\"naghimo ug\",\"nahimong\":\"nahimo nga\",\"naninda'g\":\"naninda ug\",\n",
        "    \"nganong\":\"ngano nga\",\"nagbato'g\":\"nagbaton ug\",\"kahimoa'g\":\"kahimoan ug\",\n",
        "    \"kagagmayg\":\"kagagmay ug\",\n",
        "    \"ko'y\":\"ko may\",\n",
        "    \"ko'g\":\"ko ug\",\n",
        "    \"kagahig\":\"kagahi ug\",\"kanato'ng\":\"kanato ang\",\n",
        "    \"kinig\":\"kini ug\",\n",
        "    \"kita'g\":\"kita ug\",\"kaayo'y\":\"kaayo may\",\"kaugalingo'ng\":\"kaugalingon nga\",\"kaha'y\":\"kaha may\",\"kanunay'ng\":\"kanunay nga\",\n",
        "    \"na'y\":\"naa may\",\"nagbato'g\":\"nagbanton ug\",\"nga'n\":\"ngalan\",\n",
        "    \"nangita'g\":\"nangita ug\",\n",
        "    \"naa'y\":\"naa may\",\"ni'ng\":\"niini nga\",\"niini'ng\":\"niini nga\",\"na'g\":\"na ug\",\"naasoy'ng\":\"naasoy nga\",\n",
        "    \"nagpatugatuga'g\":\"nagpatugatuga ug\",\"na'g\":\"na ug\",\n",
        "    \"ni'g\":\"kini ug\",\"negatibo'g\":\"negatibo ug\",\"gagmay'ng\":\"gagmay nga\",\n",
        "    \"ordinaryo'ng\":\"ordinaryo nga\",\n",
        "    \"panumba'y\":\"panung sa balay\",\n",
        "    \"pu'y\":\"pud diay\",\"paghimo'g\":\"paghimo ug\",\"pagmaneho'g\":\"pagmaneho ug\",\"pila'y\":\"pila may\",\n",
        "    \"pa'y\":\"pa may\",\"patay'ng\":\"patay nga\",\"pa'ng\":\"pa nga\",\"piniliay'ng\":\"piniliay nga\",\n",
        "    \"paghimo'g\":\"paghimo ug\",\"pagkao'g\":\"pagkaon ug\",\n",
        "    \"pordoy'ng\":\"pordoy nga\",\"pagsige'g\":\"pagsige ug\",\"pagpamaligya'g\":\"pagpamaligya ug\",\n",
        "    \"ra'y\":\"ra may\",\"ra'g\":\"ra ug\",\"sila'g\":\"sila ug\",\n",
        "    \"selyula'ng\":\"selyula nga\",\"sa'y\":\"sab may\",\n",
        "    \"sila'y\":\"sila may\",\"siya'y\":\"siya may\",\n",
        "    \"tawhano'ng\":\"tawhanon nga\",\"tawhanong\":\"tawhanon nga\",\n",
        "    \"ta'y\":\"ta may\",\"ta's\":\"ta sa\",\n",
        "    \"uban'g\":\"uban nga\",\"usa'y\":\"usa may\",\"unya'g\":\"unyag ug\",\n",
        "    \"unsa'y\":\"unsa may\",\"unta'g\":\"unta ug\",\"usa'g-usa\":\"usa ug usa\",\n",
        "    \"wala'y\":\"wala may\", \"wa'y\":\"wala may\",    \n",
        "    # the danger of the shortened words is there presence as a substring in the textual unit when replaced: \n",
        "    #\"wa\":\"wala\",\n",
        "    #\"way\":\"wala may\" \"mi'g\":\"mi ug\",\"mi\":\"kami\", \"kog\":\"ko ug\", ,\"koy\":\"ko may\",\"kitag\":\"kita ug\"\n",
        "    #\"ko\":\"ako\",\"murag\":\"mura ug\", \"pay\":\"pa may\",\"naay\":\"naa may\",\"nig\":\"ni ug\",\"ni\":\"kini\",\"sab\":\"usab\",.\n",
        "}\n",
        "\n",
        "def cont_to_exp(text):\n",
        "    new_words=[]\n",
        "    for word in text:\n",
        "        if type(word) is str: \n",
        "    #To do: The word must be a distinct string NOT as substring to avoid repetition Ex. wa = wala <> kawawa should be kawawa not kawalawala\n",
        "      #pattern = re.compile(r'\\b[\\w]\\b')\n",
        "          for key in contractions:\n",
        "            value =contractions[key]\n",
        "            word = word.replace(key,value)\n",
        "        new_words.append(word)\n",
        "            \n",
        "    return new_words\n"
      ]
    },
    {
      "cell_type": "code",
      "execution_count": 8,
      "metadata": {
        "id": "J78CRZq69LjZ"
      },
      "outputs": [],
      "source": [
        "import unicodedata\n",
        "def remove_non_ascii(text):\n",
        "#\"\"\"Remove non-ASCII characters from list of tokenized words\"\"\"\n",
        "    new_words = []\n",
        "    for word in text:\n",
        "        new_word = unicodedata.normalize('NFKD',word).encode('ascii', 'ignore').decode('utf-8', 'ignore')\n",
        "        new_words.append(new_word)\n",
        "    return new_words"
      ]
    },
    {
      "cell_type": "code",
      "execution_count": 9,
      "metadata": {
        "id": "UpNi_2D7-rX-"
      },
      "outputs": [],
      "source": [
        "import re\n",
        "import string\n",
        "#nltk.download (\"punkt\")\n",
        "\n",
        "def remove_punctuations(words):\n",
        "#Remove punctuations make sure all are removed\n",
        "    new_words = []\n",
        "    for word in words:    \n",
        "        \n",
        "       # new_word = re.sub(r\"[-()\\\"#/@;:<>{}=~|.?,&$]!\", \"\", word)\n",
        "        new_word = re.sub('[%s]'%re.escape(string.punctuation),'',word)\n",
        "       # if new_word != '':\n",
        "        new_words.append(new_word)\n",
        "    return new_words"
      ]
    },
    {
      "cell_type": "code",
      "execution_count": 10,
      "metadata": {
        "id": "6xHTgHWa_ZR5"
      },
      "outputs": [],
      "source": [
        "#remove a single character!!!\n",
        "def remove_singleCharString(words):\n",
        "     new_words = []  \n",
        "        \n",
        "     for word in words:\n",
        "       new_word=re.sub(r\"(^| ).(( ).)*( |$)\",' ',word) #(^| ).( |$)\n",
        "       if new_word !='':\n",
        "            new_words.append(new_word)\n",
        "     return new_words\n"
      ]
    },
    {
      "cell_type": "code",
      "execution_count": 11,
      "metadata": {
        "id": "GpUlXXoG3oKT"
      },
      "outputs": [],
      "source": [
        "# Call all the Preprocessing Procedures to make a clean texTuaL representation of the data\n",
        "#def clean_data(words):   \n",
        "  #words = change_bisayavowels(words)\n",
        "#df['REVIEWS']= df.REVIEWS.astype(str)\n",
        "text = df.REVIEWS.to_list()\n",
        "text = remove_digits(text)\n",
        "text = clean_text(text)\n",
        "text = cont_to_exp(text)\n",
        "text = remove_non_ascii(text)\n",
        "text = remove_punctuations(text)\n",
        "text = remove_singleCharString(text)\n",
        "text = convert_tolowercase(text)\n",
        "df['REVIEWS']=pd.Series(text)\n",
        "#  return words\n"
      ]
    },
    {
      "cell_type": "code",
      "execution_count": 12,
      "metadata": {
        "colab": {
          "base_uri": "https://localhost:8080/",
          "height": 206
        },
        "id": "Xkmxl5kU3wyY",
        "outputId": "7c5c1bdb-7051-4768-8473-f0dd13f6d72d"
      },
      "outputs": [
        {
          "output_type": "execute_result",
          "data": {
            "text/plain": [
              "                                             REVIEWS  POLARITY\n",
              "0  way komo sa pag ampo ang pagampo maoy lig on n...         1\n",
              "1  tunok sa ugmarong kalamboan mao silbing gumonh...         1\n",
              "2  sulod sa pito ka tuig mipundo steady ang atong...         1\n",
              "3  way kauwaw ang pagtabi og dala nga hambog ni k...         0\n",
              "4                way klarong hinungdan ug pagpasabot         0"
            ],
            "text/html": [
              "\n",
              "  <div id=\"df-f67a87f0-33c1-4816-bcfc-c60e21fee1d0\">\n",
              "    <div class=\"colab-df-container\">\n",
              "      <div>\n",
              "<style scoped>\n",
              "    .dataframe tbody tr th:only-of-type {\n",
              "        vertical-align: middle;\n",
              "    }\n",
              "\n",
              "    .dataframe tbody tr th {\n",
              "        vertical-align: top;\n",
              "    }\n",
              "\n",
              "    .dataframe thead th {\n",
              "        text-align: right;\n",
              "    }\n",
              "</style>\n",
              "<table border=\"1\" class=\"dataframe\">\n",
              "  <thead>\n",
              "    <tr style=\"text-align: right;\">\n",
              "      <th></th>\n",
              "      <th>REVIEWS</th>\n",
              "      <th>POLARITY</th>\n",
              "    </tr>\n",
              "  </thead>\n",
              "  <tbody>\n",
              "    <tr>\n",
              "      <th>0</th>\n",
              "      <td>way komo sa pag ampo ang pagampo maoy lig on n...</td>\n",
              "      <td>1</td>\n",
              "    </tr>\n",
              "    <tr>\n",
              "      <th>1</th>\n",
              "      <td>tunok sa ugmarong kalamboan mao silbing gumonh...</td>\n",
              "      <td>1</td>\n",
              "    </tr>\n",
              "    <tr>\n",
              "      <th>2</th>\n",
              "      <td>sulod sa pito ka tuig mipundo steady ang atong...</td>\n",
              "      <td>1</td>\n",
              "    </tr>\n",
              "    <tr>\n",
              "      <th>3</th>\n",
              "      <td>way kauwaw ang pagtabi og dala nga hambog ni k...</td>\n",
              "      <td>0</td>\n",
              "    </tr>\n",
              "    <tr>\n",
              "      <th>4</th>\n",
              "      <td>way klarong hinungdan ug pagpasabot</td>\n",
              "      <td>0</td>\n",
              "    </tr>\n",
              "  </tbody>\n",
              "</table>\n",
              "</div>\n",
              "      <button class=\"colab-df-convert\" onclick=\"convertToInteractive('df-f67a87f0-33c1-4816-bcfc-c60e21fee1d0')\"\n",
              "              title=\"Convert this dataframe to an interactive table.\"\n",
              "              style=\"display:none;\">\n",
              "        \n",
              "  <svg xmlns=\"http://www.w3.org/2000/svg\" height=\"24px\"viewBox=\"0 0 24 24\"\n",
              "       width=\"24px\">\n",
              "    <path d=\"M0 0h24v24H0V0z\" fill=\"none\"/>\n",
              "    <path d=\"M18.56 5.44l.94 2.06.94-2.06 2.06-.94-2.06-.94-.94-2.06-.94 2.06-2.06.94zm-11 1L8.5 8.5l.94-2.06 2.06-.94-2.06-.94L8.5 2.5l-.94 2.06-2.06.94zm10 10l.94 2.06.94-2.06 2.06-.94-2.06-.94-.94-2.06-.94 2.06-2.06.94z\"/><path d=\"M17.41 7.96l-1.37-1.37c-.4-.4-.92-.59-1.43-.59-.52 0-1.04.2-1.43.59L10.3 9.45l-7.72 7.72c-.78.78-.78 2.05 0 2.83L4 21.41c.39.39.9.59 1.41.59.51 0 1.02-.2 1.41-.59l7.78-7.78 2.81-2.81c.8-.78.8-2.07 0-2.86zM5.41 20L4 18.59l7.72-7.72 1.47 1.35L5.41 20z\"/>\n",
              "  </svg>\n",
              "      </button>\n",
              "      \n",
              "  <style>\n",
              "    .colab-df-container {\n",
              "      display:flex;\n",
              "      flex-wrap:wrap;\n",
              "      gap: 12px;\n",
              "    }\n",
              "\n",
              "    .colab-df-convert {\n",
              "      background-color: #E8F0FE;\n",
              "      border: none;\n",
              "      border-radius: 50%;\n",
              "      cursor: pointer;\n",
              "      display: none;\n",
              "      fill: #1967D2;\n",
              "      height: 32px;\n",
              "      padding: 0 0 0 0;\n",
              "      width: 32px;\n",
              "    }\n",
              "\n",
              "    .colab-df-convert:hover {\n",
              "      background-color: #E2EBFA;\n",
              "      box-shadow: 0px 1px 2px rgba(60, 64, 67, 0.3), 0px 1px 3px 1px rgba(60, 64, 67, 0.15);\n",
              "      fill: #174EA6;\n",
              "    }\n",
              "\n",
              "    [theme=dark] .colab-df-convert {\n",
              "      background-color: #3B4455;\n",
              "      fill: #D2E3FC;\n",
              "    }\n",
              "\n",
              "    [theme=dark] .colab-df-convert:hover {\n",
              "      background-color: #434B5C;\n",
              "      box-shadow: 0px 1px 3px 1px rgba(0, 0, 0, 0.15);\n",
              "      filter: drop-shadow(0px 1px 2px rgba(0, 0, 0, 0.3));\n",
              "      fill: #FFFFFF;\n",
              "    }\n",
              "  </style>\n",
              "\n",
              "      <script>\n",
              "        const buttonEl =\n",
              "          document.querySelector('#df-f67a87f0-33c1-4816-bcfc-c60e21fee1d0 button.colab-df-convert');\n",
              "        buttonEl.style.display =\n",
              "          google.colab.kernel.accessAllowed ? 'block' : 'none';\n",
              "\n",
              "        async function convertToInteractive(key) {\n",
              "          const element = document.querySelector('#df-f67a87f0-33c1-4816-bcfc-c60e21fee1d0');\n",
              "          const dataTable =\n",
              "            await google.colab.kernel.invokeFunction('convertToInteractive',\n",
              "                                                     [key], {});\n",
              "          if (!dataTable) return;\n",
              "\n",
              "          const docLinkHtml = 'Like what you see? Visit the ' +\n",
              "            '<a target=\"_blank\" href=https://colab.research.google.com/notebooks/data_table.ipynb>data table notebook</a>'\n",
              "            + ' to learn more about interactive tables.';\n",
              "          element.innerHTML = '';\n",
              "          dataTable['output_type'] = 'display_data';\n",
              "          await google.colab.output.renderOutput(dataTable, element);\n",
              "          const docLink = document.createElement('div');\n",
              "          docLink.innerHTML = docLinkHtml;\n",
              "          element.appendChild(docLink);\n",
              "        }\n",
              "      </script>\n",
              "    </div>\n",
              "  </div>\n",
              "  "
            ]
          },
          "metadata": {},
          "execution_count": 12
        }
      ],
      "source": [
        "df.head()\n",
        "\n",
        "#review_Text=[sentence.split() for sentence in df['REVIEWS'].to_list()]\n",
        "#review_Text=[str(words).lower() for words in review_Text]\n",
        "#review_Text\n",
        "#define parameters\n",
        "#output_dir = os.chdir(\"/content/drive/MyDrive/Colab Notebooks/data\")\n",
        "# Dummy data. There is nothing to learn in this example.\n",
        "#num_samples, time_steps, input_dim, output_dim = 5, 3, 1, 1\n",
        "#data_x = np.random.uniform(size=(num_samples, time_steps, input_dim))\n",
        "#data_y = np.random.uniform(size=(num_samples, output_dim))"
      ]
    },
    {
      "cell_type": "markdown",
      "metadata": {
        "id": "8eLDwmAs8Ao-"
      },
      "source": [
        "<p>Text processing and normalization is crucial prior to building a proper NLP model. \n",
        "Preprocessing includes some important steps like changing words to its lowercase form, removing stopwords, punctuations, numbers, special characters/symbols for the text and changing characters from 'e' to 'i' and 'o' to 'u'. Then normalizing what is left into salient word. Normalization includes stemming which removes suffixes and prefixes from word roots and lemmatization which maps the root forms back to an actual words in the natural language.\n",
        "These process all together to identify a canonical representation for a set of related word forms allowing us to assess these independent of morphological variations.\\n</p>\n",
        "\n",
        "When to Stem and Normalize?\n",
        "https://towardsdatascience.com/text-normalization-for-natural-language-processing-nlp-70a314bfa646"
      ]
    },
    {
      "cell_type": "markdown",
      "metadata": {
        "id": "zbfSCOMWyAGg"
      },
      "source": [
        "When we normalize text, we attempt to reduce its randomness, bringing it closer to a\n",
        "predefined “standard”. This helps us to reduce the amount of different information that\n",
        "the computer has to deal with, and therefore improves efficiency theat will yield better estimates of the known words. \n",
        "The goal of normalization techniques like stemming and lemmatization is to reduce inflectionalforms and sometimes derivationally related forms of a word to a common base form.\n",
        "\n",
        "Getting better value from text normalization depends more on pragmatic issues of word use than on formal issues of linguistic morphology.\n",
        "Even though text normalization is considered pretty solved for modern languages such\n",
        "as English, there exist many (e.g. historic) languages for which the problem is harder to\n",
        "solve, due to a lack of resources and unstable orthography.\n",
        "All preprocessing does not require normalization for the eventual model or application\n",
        "to be effective, and it may actually impede the success or accuracy of the model or\n",
        "application. We need to ask ourselves: is important information being lost by\n",
        "normalizing? Or is irrelevant information being removed?\n",
        "- Text Normalization for Natural Language\n",
        "Processing (NLP)\n",
        "Stemming and lemmatization with Python\n",
        "Diego Lopez Yse"
      ]
    },
    {
      "cell_type": "code",
      "execution_count": 13,
      "metadata": {
        "colab": {
          "base_uri": "https://localhost:8080/"
        },
        "id": "_-ZeGESfLjcv",
        "outputId": "61933fbc-3d60-48d8-e2d8-aa754dd7ad90"
      },
      "outputs": [
        {
          "output_type": "execute_result",
          "data": {
            "text/plain": [
              "1    23426\n",
              "0    23426\n",
              "Name: POLARITY, dtype: int64"
            ]
          },
          "metadata": {},
          "execution_count": 13
        }
      ],
      "source": [
        "df.POLARITY.value_counts()"
      ]
    },
    {
      "cell_type": "code",
      "execution_count": 14,
      "metadata": {
        "id": "z2P6iuYx0O1K"
      },
      "outputs": [],
      "source": [
        "#lseries= df['REVIEWS'].squeeze()\n",
        "#reviewlist=clean_data(df['REVIEWS'].squeeze())\n",
        "#print(reviewlist)\n",
        "#df=pd.DataFrame(reviewlist, columns=['REVIEWS'])   #df = pd.DataFrame({'REVIEWS':ls})"
      ]
    },
    {
      "cell_type": "markdown",
      "metadata": {
        "id": "Crz-dDElmTHm"
      },
      "source": [
        "# **Preparing the Embedding Layer**"
      ]
    },
    {
      "cell_type": "markdown",
      "metadata": {
        "id": "fP7fS276tSZ9"
      },
      "source": [
        "**1. Build the word-to-index Vocabulary**\n",
        "\n",
        "The first step is to build a vocabulary of unique words. The Tokenizer() method is used to build a word-to-index sort of dictionary. In the word-to-index dictionary, each word in the corpus is used as a key, while a corresponding unique index is used as the value for the key. This vocabulary is configured only to take into account the most common 30000 words, hence, our very own dictionary can store only this maximum number of words. \n",
        "\n",
        "Our model dictionary will categorize an Out-Of-Vocabulary for a new word that has not seen before. An oov_token, <OOV\\> is used to replace the out of vocabulary words. "
      ]
    },
    {
      "cell_type": "code",
      "execution_count": 15,
      "metadata": {
        "colab": {
          "base_uri": "https://localhost:8080/"
        },
        "id": "OZtc2E-tHKWF",
        "outputId": "b07a9902-beb0-4a12-8fc1-1c2ff0da1856"
      },
      "outputs": [
        {
          "output_type": "stream",
          "name": "stdout",
          "text": [
            "Found 50865 unique tokens.\n"
          ]
        }
      ],
      "source": [
        "from keras.preprocessing.text import Tokenizer\n",
        "\n",
        "sentence_length = 30  # length of the input sentence \n",
        "vocabularySize = 30000 #this is the maximum number of words we can store in our very own dictionary of sorts.\n",
        "\n",
        "tokenizer = Tokenizer(num_words = vocabularySize,oov_token=\"<OOV>\")\n",
        "\n",
        "#Build the word index by turning the words into numeric tokens \n",
        "#from the set of sentences, fitted to the training dataset.\n",
        "tokenizer.fit_on_texts(df['REVIEWS']) #Set the index from the dictionary of each word\n",
        "wordIndex = tokenizer.word_index  # each word has a unique index\n",
        "\n",
        "#Get our word index and findout the vocabulary of the dataset by Convert all the words in our sentences into a dictionary of sorts (word_index) which allots individual tokens to each words.\n",
        "print('Found %s unique tokens.' % len(wordIndex)) # show vocabulary size= 50865 tokens"
      ]
    },
    {
      "cell_type": "code",
      "execution_count": 16,
      "metadata": {
        "id": "DomoxVjEaZg6"
      },
      "outputs": [],
      "source": [
        "#wordIndex  # print the word token and the respective integer\n",
        "#wordIndex['kwarto']"
      ]
    },
    {
      "cell_type": "markdown",
      "metadata": {
        "id": "OXrpfhFRXP-b"
      },
      "source": [
        "**2. Split the Dataset into Training Set and Testing Set**"
      ]
    },
    {
      "cell_type": "code",
      "execution_count": 17,
      "metadata": {
        "colab": {
          "base_uri": "https://localhost:8080/"
        },
        "id": "UGBUnwWWZUN7",
        "outputId": "4eea1682-ce3a-4b61-a713-b73a47bb1872"
      },
      "outputs": [
        {
          "output_type": "stream",
          "name": "stdout",
          "text": [
            "Training Samples: 42166\n",
            "Test Samples:     2343 \n",
            "Validation Samples:2343 \n"
          ]
        }
      ],
      "source": [
        "from sklearn.model_selection import train_test_split\n",
        "\n",
        "#X=dataSet['REVIEWS'] #the independent/predictor variable\n",
        "#y=dataSet['POLARITY'] #the dependent/outcome variable\n",
        "\n",
        "# Divide/Split the dataset into Train and Validation \n",
        "X_train, X_temp_test, y_train, y_temp_test = train_test_split(df['REVIEWS'].values, df['POLARITY'].values, test_size=0.10) #, random_state=42\n",
        "\n",
        "#Number of samples after split or Data Shape\n",
        "#The TRAINING Dataset Shape\n",
        "print(f'Training Samples: {len(X_train)}')  #{X_train.shape,y_train.shape}\n",
        "#print(f'Tentative Test Samples: {X_temp_test.shape, y_temp_test.shape}')\n",
        "\n",
        "#The VALIDATION and TEST dataset Shape\n",
        "X_validation,X_test,y_validation,y_test = train_test_split(X_temp_test,y_temp_test,test_size=.50)\n",
        "print(f\"Test Samples:     {len(X_test)} \")        #print(f'New Test dimensions: {X_test.shape, y_test.shape}')\n",
        "print(f\"Validation Samples:{len(X_validation)} \") #len(y_validation)}   print(f'Validation dimensions: {X_validation.shape, y_validation.shape}')\n",
        "\n",
        "#Create a separate test file!!!\n",
        "#average_length=np.mean([len(x)for x in X_train])\n",
        "#median_length = sorted([len(x) for x in X_train])[len(X_train)//2]\n",
        "#print(\"Average sequence length\",average_length) #The number of characters of a sentence\n",
        "#print(\"Median Sequence Length\", median_length)\n",
        "#print(\"Review length {}\".format(len(min((X_train + y_train),key=len))))\n"
      ]
    },
    {
      "cell_type": "code",
      "execution_count": null,
      "metadata": {
        "colab": {
          "base_uri": "https://localhost:8080/"
        },
        "id": "KitmqEDDdZTL",
        "outputId": "4c08e47b-4aab-43df-b237-3811b5805fa4"
      },
      "outputs": [
        {
          "data": {
            "text/plain": [
              "(46770, 0)"
            ]
          },
          "execution_count": 18,
          "metadata": {},
          "output_type": "execute_result"
        }
      ],
      "source": [
        "predictors = df.iloc[:,100:150]\n",
        "response= df.iloc[:,1]\n",
        "predictors.shape\n",
        "response.shape\n",
        "predictors.shape"
      ]
    },
    {
      "cell_type": "markdown",
      "metadata": {
        "id": "2Fnt6rktcK-s"
      },
      "source": [
        "**3. Convert the dataset into Sequences**\n",
        "<br>Create the sequences of tokens representing each sentence. The texts_sequences method Convert the data (sentences) into sequences by turning strings into a list of integer indeces. With the numbers/indeces being tokens representing words. The sequences are indeces of each word. Remember: This will serve as input to the Embedding Layer.\n",
        "<br>Example:<br>\n",
        "![Sample1.PNG](data:image/png;base64,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)"
      ]
    },
    {
      "cell_type": "code",
      "execution_count": 18,
      "metadata": {
        "colab": {
          "base_uri": "https://localhost:8080/"
        },
        "id": "iK1a3HeRxXLv",
        "outputId": "a1f8976f-f366-412a-e5ad-647c92c13f23"
      },
      "outputs": [
        {
          "output_type": "stream",
          "name": "stdout",
          "text": [
            "Training Sequence:  [1167, 2921, 2993, 3, 211, 94, 236, 17805, 2, 5, 1, 3, 391, 2, 17, 23039, 61, 2, 23040, 1179, 2, 148, 82]\n",
            "Training Sentence:  malipayon ming naghunahuna nga tibuok adlaw silang maexpose sa mga cartoons nga makatabang sa ilang lessons sama sa sesame street sa among panahon\n"
          ]
        }
      ],
      "source": [
        "training_sequences=tokenizer.texts_to_sequences(X_train)     #=> training_sequence=np.asarray(tokenizer.texts_to_sequences(df['REVIEWS'].tolist())) #same as above\n",
        "validation_sequences=tokenizer.texts_to_sequences(X_validation)\n",
        "testing_sequences=tokenizer.texts_to_sequences(X_test)\n",
        "\n",
        "#Show the new sequence and its equivalent sentence\n",
        "print('Training Sequence: ',training_sequences[4])\n",
        "print('Training Sentence: ',X_train[4])\n",
        "#print('Testing Sequence',testing_sequences[101])\n",
        "#print(str(tokenizer.texts_to_sequences([\"fall gipadamgu\"]))) #=> results to [1,1] an example of out of vocabulary"
      ]
    },
    {
      "cell_type": "markdown",
      "metadata": {
        "id": "9drhNCynfIHL"
      },
      "source": [
        "**4. Padding the sequence for a uniform Length**\n",
        "<br>Make all of the sequences/sentences uniform in length through padding a sequence of 0s!<br>Example<br>\n",
        "![Sample2.PNG](data:image/png;base64,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)"
      ]
    },
    {
      "cell_type": "code",
      "execution_count": 19,
      "metadata": {
        "id": "zXMYt1Wpx7ne"
      },
      "outputs": [],
      "source": [
        "#from keras.preprocessing import sequence\n",
        "from keras.preprocessing.sequence import pad_sequences\n",
        "\n",
        "padded_training = pad_sequences(training_sequences,maxlen=sentence_length,padding= 'post',truncating='post')\n",
        "#T=padded_training.shape[1]\n",
        "#y = np.asarray(y_train)\n",
        "#print('Length of the training sequence is',T)\n",
        "#print('shape of label tensor',y.shape)\n",
        "#print('Padded sentence',padded_training[101])\n",
        "\n",
        "padded_validation = pad_sequences(validation_sequences,maxlen=sentence_length,padding= 'post',truncating='post')\n",
        "#print('The length of the validation sequence is',padded_validation.shape[0])\n",
        "#print('Padded sentence',padded_validation[101])\n",
        "\n",
        "padded_testing = pad_sequences(testing_sequences,maxlen=sentence_length,padding= 'post',truncating='post')\n",
        "#padded_testing = pad_sequences(testing_sequences,maxlen=T,padding= 'post',truncating='post')\n",
        "#print('The length of the testing sequence is',padded_testing.shape[0])\n",
        "#print('Padded sentence',padded_testing[101])"
      ]
    },
    {
      "cell_type": "code",
      "execution_count": null,
      "metadata": {
        "id": "VWJ9PFABsc5Q"
      },
      "outputs": [],
      "source": [
        "#for seq in padded_testing: print(np.array(seq).shape)"
      ]
    },
    {
      "cell_type": "markdown",
      "metadata": {
        "id": "hNTGLnrdgRP6"
      },
      "source": [
        "**5. Load the (Pre-trained) Bisaya Word Embeddings** <br>\n",
        "One of the most important technology and common denominator in all NLP use-cases is the mapping of words to a set of real numbers--vectors. The Word embeddings are vector representation capable of capturing the meaning of word in a document, semantic and syntactic similarity, relationship with other words. A way of converting the Bisaya words to numerical values is to use word2vec. Word2vec maps each word in a multidimensional space. It does by taking into account the context n which a word appears in the texts.As a result, words that are similar are close to each other in the multidimensional space. To relative embeddings of 300-dimension is learned from training using the Word2Vec skip-gram model. \""
      ]
    },
    {
      "cell_type": "markdown",
      "metadata": {
        "id": "zrA1NpMF_Nwd"
      },
      "source": [
        "Load the Bisaya Skip-gram word embedding into memory as a dictionary of a\n",
        "word to embedding vectors."
      ]
    },
    {
      "cell_type": "code",
      "execution_count": 20,
      "metadata": {
        "colab": {
          "base_uri": "https://localhost:8080/"
        },
        "id": "swpX-ykR1odl",
        "outputId": "8fb6b003-1b56-4a0a-ae20-59ca5b2f610e"
      },
      "outputs": [
        {
          "output_type": "stream",
          "name": "stdout",
          "text": [
            "Loaded 40132 word vectors.\n"
          ]
        },
        {
          "output_type": "stream",
          "name": "stderr",
          "text": [
            "/usr/local/lib/python3.7/dist-packages/ipykernel_launcher.py:8: DeprecationWarning: Call to deprecated `wv` (Attribute will be removed in 4.0.0, use self instead).\n",
            "  \n",
            "/usr/local/lib/python3.7/dist-packages/ipykernel_launcher.py:9: DeprecationWarning: Call to deprecated `wv` (Attribute will be removed in 4.0.0, use self instead).\n",
            "  if __name__ == '__main__':\n"
          ]
        }
      ],
      "source": [
        "# load the whole \"customized pre-trained word embeddings\"  into embeddings_index. These vectors will be feed to our ML\n",
        "\n",
        "from gensim.models import KeyedVectors\n",
        "\n",
        "w2v_embeddings_index={}\n",
        "w2v_model =KeyedVectors.load_word2vec_format('/content/drive/MyDrive/Colab Notebooks/data/bisayaEmbeddingModel300Dseries612.bin',binary=True)\n",
        "\n",
        "for word in w2v_model.wv.index2word: #w2v_model.wv.vocab:\n",
        "    w2v_embeddings_index[word] = w2v_model.wv.get_vector(word)\n",
        "print('Loaded %s word vectors.'% len(w2v_embeddings_index))  #   xx40132 word vectors\n",
        "\n",
        "#print(bisayaEmbeddingModel['mga'])\n",
        "#print(w2v_embeddings_index[\"mga\"])\n",
        "#bisayaEmbeddingModel['ma'].shape  #300\n"
      ]
    },
    {
      "cell_type": "code",
      "execution_count": 20,
      "metadata": {
        "colab": {
          "base_uri": "https://localhost:8080/"
        },
        "id": "HYm4d6ZiDeFv",
        "outputId": "faf75b88-0c66-4879-b9c1-866e75de1380"
      },
      "outputs": [
        {
          "output_type": "stream",
          "name": "stdout",
          "text": [
            "[ 0.11140483  0.05717844 -0.06878012  0.01902441  0.02520449 -0.24690185\n",
            " -0.1639902   0.15144596 -0.01598958 -0.015915    0.09265285  0.04389953\n",
            " -0.0148679   0.12593846 -0.19714649  0.00500848  0.01113687 -0.00860906\n",
            "  0.03591334 -0.13440922  0.21202384 -0.05243982  0.07297504  0.02103287\n",
            "  0.11652139  0.08925578 -0.12316807  0.09295796 -0.13133982 -0.12678926\n",
            " -0.04036358  0.05782218  0.05219557  0.06270465 -0.09691479  0.04661522\n",
            "  0.07289807 -0.0420926  -0.00704475 -0.06211439  0.03532087  0.01109914\n",
            "  0.03656767 -0.03622013  0.06645709  0.03730164 -0.0225346  -0.03908349\n",
            " -0.12249976  0.03157796  0.01005841 -0.08492997 -0.01559604 -0.01499235\n",
            "  0.2713211  -0.16947453  0.11676848  0.03108424 -0.11433632  0.09447723\n",
            " -0.19493547 -0.02598201  0.12646475  0.08652534  0.03563856  0.01603639\n",
            " -0.0689621  -0.04189521 -0.03365888 -0.11335458  0.09377597  0.02707062\n",
            " -0.0223607   0.01083941  0.00572775 -0.12622212 -0.02374641 -0.1941454\n",
            " -0.07796007 -0.06596062 -0.0131625   0.03557664  0.01731397  0.09788342\n",
            " -0.07480393 -0.01235833  0.04602453 -0.00095056  0.04624142  0.04960171\n",
            "  0.00810349  0.01940241  0.07959284 -0.00088069  0.0281403   0.04510747\n",
            "  0.04663973  0.08247467  0.06829705 -0.14659485 -0.04932939 -0.06027095\n",
            "  0.08377683 -0.05233759  0.00292775  0.00897083  0.00907227  0.03273729\n",
            " -0.32530394  0.00263125 -0.08800039  0.0282706   0.056825   -0.08820501\n",
            "  0.0726372   0.02514273 -0.08047837  0.10630846 -0.00791339 -0.21074316\n",
            " -0.00360296  0.00934067  0.1666984   0.00125884  0.04631918  0.05865845\n",
            " -0.07267657 -0.00928438  0.05621886  0.03805655  0.05233675  0.1737222\n",
            "  0.04356781 -0.06242524  0.04342445 -0.18072903  0.05495828  0.19173652\n",
            "  0.01933904 -0.06596857 -0.05588818 -0.01137147 -0.08850006  0.11160981\n",
            "  0.01928867 -0.00571488 -0.04604082 -0.05266374 -0.03663167 -0.05270978\n",
            "  0.05184196 -0.12420928  0.02356998  0.08936208  0.06087867  0.07029933\n",
            " -0.0861414  -0.16656727 -0.06329294  0.1020822  -0.08388816  0.1219594\n",
            " -0.05154311  0.1354578  -0.01527827  0.08185079  0.07163177  0.03498825\n",
            "  0.10983299  0.03459078 -0.03125373 -0.01872912  0.07319941  0.2599893\n",
            "  0.00618211  0.11214171  0.08596511 -0.01239839  0.09519227  0.04882411\n",
            " -0.13169098  0.05215405  0.0261572   0.07883566 -0.13660568 -0.07795254\n",
            "  0.15344758  0.11883848  0.01809339 -0.26828104  0.04991535  0.00215185\n",
            " -0.18178055  0.08547972  0.10474779 -0.07705442  0.0835483  -0.0694478\n",
            " -0.05441425 -0.02920746  0.04390507  0.1767772   0.08909338 -0.03275881\n",
            "  0.15843543  0.02086315 -0.02055801  0.02415848 -0.06833795 -0.13592891\n",
            "  0.02859201 -0.04670042 -0.01161721 -0.06105167  0.1515281  -0.11001968\n",
            " -0.08132955 -0.06891854  0.04699397 -0.10568187  0.05124023 -0.01561445\n",
            "  0.17037317 -0.15374148 -0.20155174  0.01610692  0.04952054  0.07720615\n",
            " -0.00311466 -0.05308135  0.03320388 -0.08134019  0.02692609  0.02954334\n",
            " -0.04719305  0.1837784   0.24274985  0.02587957  0.05059149 -0.04898773\n",
            "  0.05142123  0.00361787 -0.19179764 -0.07316664 -0.02573015  0.01033966\n",
            "  0.01159994  0.07916731 -0.1712518  -0.11824387 -0.00197634 -0.02793553\n",
            "  0.03631735  0.11108462 -0.07305469 -0.23696668  0.2591632   0.07200144\n",
            " -0.04301406  0.01172057  0.2823022  -0.03973177  0.04797032 -0.08662672\n",
            " -0.1136246   0.01310269  0.15083382  0.07334011 -0.10037043 -0.0292444\n",
            " -0.0948735   0.14640951  0.04558755  0.06845693  0.09985393 -0.00645446\n",
            "  0.13119376  0.09259046 -0.1643266  -0.01509401  0.138605   -0.05565538\n",
            "  0.15671553  0.002768    0.07870069 -0.1004099  -0.12138221  0.07540638\n",
            "  0.07472154  0.00848164 -0.00657839  0.0438612   0.03380986  0.09910566\n",
            "  0.15728553  0.11529701  0.0207527  -0.07272737  0.06581858 -0.05058652]\n"
          ]
        }
      ],
      "source": [
        "print(w2v_model[\"mga\"])"
      ]
    },
    {
      "cell_type": "markdown",
      "metadata": {
        "id": "UFVmOvc-uOLg"
      },
      "source": [
        "**6. Transform the data into Embedding Matrix**\n",
        " <br>      Words in the dataset are looked up and assigned with the vectors. Create an embedding matrix for words in the training dataset.\n"
      ]
    },
    {
      "cell_type": "code",
      "execution_count": 21,
      "metadata": {
        "colab": {
          "base_uri": "https://localhost:8080/"
        },
        "id": "P3a0R8ESjUPG",
        "outputId": "954202f8-4b48-4f95-c424-1fc1438070a0"
      },
      "outputs": [
        {
          "output_type": "stream",
          "name": "stdout",
          "text": [
            "Preparing the Embedding Matrix.......\n",
            "\n",
            "Total missed words are 2508 which is 4.93 % of total words\n",
            "Embedding Matrix shape: (30000, 300)\n",
            "Converted 27491 words (2508 misses)\n"
          ]
        }
      ],
      "source": [
        "#Convert data to embedding matrix to num_words x 300 shape\n",
        "\n",
        "import numpy as np\n",
        "embedding_dim = 300\n",
        "MAX_NUM_WORDS = vocabularySize #max the number of vocabulary words\n",
        "min_wordCount = 2\n",
        "small_words=0\n",
        "hits = 0\n",
        "misses = 0\n",
        "word_counts = tokenizer.word_index\n",
        "small_counts=0\n",
        "print ('Preparing the Embedding Matrix.......\\n')\n",
        "num_words = min(MAX_NUM_WORDS,len(wordIndex)+1)\n",
        "embedding_matrix1 = np.zeros((num_words, embedding_dim)) #matrix of 51000 x 300\n",
        "for word, i in wordIndex.items():\n",
        " # if word_counts[word] >= min_wordCount:\n",
        "    if i< MAX_NUM_WORDS:\n",
        "        #continue\n",
        "     #if word in bisayaEmbeddingModel.vocab:   \n",
        "        embedding_vector = w2v_embeddings_index.get(word) #bisayaEmbeddingModel[word] #    \n",
        "        if embedding_vector is not None:\n",
        "        # Words not found in embedding index will be all-zeros. # This includes the representation for \"padding\" and \"OOV\"\n",
        "             embedding_matrix1[i] = embedding_vector\n",
        "             hits += 1\n",
        "        else:\n",
        "             #embedding_matrix1[i] = np.zeros((300,))\n",
        "             misses += 1\n",
        "  #else:\n",
        "   #         small_words+=1\n",
        "print('Total missed words are', misses, 'which is', \"%0.2f\" % (misses * 100 / len(wordIndex)),'% of total words')\n",
        "#print('Words with '+str(min_wordCount)+' or less mentions', small_words, 'which is', \"%0.2f\" % (small_words * 100 / len(wordIndex)),'% of total words')\n",
        "\n",
        "print(\"Embedding Matrix shape:\", embedding_matrix1.shape)\n",
        "print(\"Converted %d words (%d misses)\" % (hits, misses))\n",
        "#print(str(len(wordIndex)-small_words-misses) + ' words to proceed.')"
      ]
    },
    {
      "cell_type": "code",
      "execution_count": null,
      "metadata": {
        "id": "ihHFA2IA5pIx"
      },
      "outputs": [],
      "source": [
        "#embedding_matrix1[word_counts['mga']]\n",
        "#word_counts['abogasya']\n",
        "#embedding_matrix1[2]"
      ]
    },
    {
      "cell_type": "markdown",
      "metadata": {
        "id": "N9eePz7FClz0"
      },
      "source": [
        "#**Building The Sentiment Model**\n",
        "\n",
        "To best way to learn the fundamentals of a language is language modeling. Language model is the task to assign probabilities. These probabilites represent the likelihood the way we write or grammar or some sort of linguistic phenomnenon."
      ]
    },
    {
      "cell_type": "markdown",
      "metadata": {
        "id": "nONc4Sxy4_x5"
      },
      "source": [
        "**Build the Sentiment Model**\n",
        " <br> This language model is Bidirectional LSTM. BiLSTM\n",
        "is a sequence processing model that consists of two LSTMs: one taking the inputin a forward direction, and the other in a backward direction. BiLSTMs effectively increase the amount of information available to the network, therefore improving thecontext available to the algorithm. LSTM layer makes the decision to keep or throw awaydata by considering the current input, previous output, and previous memory."
      ]
    },
    {
      "cell_type": "markdown",
      "metadata": {
        "id": "fxYfYzwC83vG"
      },
      "source": [
        "**A. Model One** - Stacked BiLSTM"
      ]
    },
    {
      "cell_type": "code",
      "execution_count": 28,
      "metadata": {
        "colab": {
          "base_uri": "https://localhost:8080/"
        },
        "id": "eNqCm0xT6Lme",
        "outputId": "65d90d2a-c2d5-4d63-9dd2-69b44019f0b5"
      },
      "outputs": [
        {
          "output_type": "stream",
          "name": "stdout",
          "text": [
            "Model: \"2-Stacked_BiLSTM_One\"\n",
            "_________________________________________________________________\n",
            " Layer (type)                Output Shape              Param #   \n",
            "=================================================================\n",
            " Embedding_Layer (Embedding)  (None, 30, 300)          9000000   \n",
            "                                                                 \n",
            " dense_1 (Dense)             (None, 30, 20)            6020      \n",
            "                                                                 \n",
            " dropout_1 (Dropout)         (None, 30, 20)            0         \n",
            "                                                                 \n",
            " bidirectional_2 (Bidirectio  (None, 30, 128)          43520     \n",
            " nal)                                                            \n",
            "                                                                 \n",
            " bidirectional_3 (Bidirectio  (None, 128)              98816     \n",
            " nal)                                                            \n",
            "                                                                 \n",
            " Output_Layer (Dense)        (None, 1)                 129       \n",
            "                                                                 \n",
            "=================================================================\n",
            "Total params: 9,148,485\n",
            "Trainable params: 148,485\n",
            "Non-trainable params: 9,000,000\n",
            "_________________________________________________________________\n"
          ]
        }
      ],
      "source": [
        "from keras.constraints import MaxNorm\n",
        "from keras import regularizers\n",
        "\n",
        "from keras.backend import dropout\n",
        "from keras.models import Sequential\n",
        "from keras.models import Model\n",
        "from keras.layers import Embedding,Bidirectional, LSTM, Dense,Dropout\n",
        "\n",
        "modelOne= Sequential(name=\"2-Stacked_BiLSTM_One\")\n",
        "embedding_Layer = (Embedding(input_dim=MAX_NUM_WORDS,output_dim=embedding_dim,weights=[embedding_matrix1],input_length=sentence_length,trainable=False, name=\"Embedding_Layer\"))\n",
        "modelOne.add(embedding_Layer)\n",
        "modelOne.add(Dense(20, input_dim=300, kernel_initializer='he_uniform', activation='relu'))\n",
        "modelOne.add(Dropout(0.1))\n",
        "modelOne.add(Bidirectional(LSTM(64,activation='relu',return_sequences=True, recurrent_dropout=0.2, name='BiLSTM_Layer1'))) #\n",
        "#modelOne.add(Bidirectional(LSTM(64,activation='relu',return_sequences=True, recurrent_dropout=0.2, name='BiLSTM_Layer1.5')))\n",
        "#modelOne.add(Dropout(0.3))\n",
        "#modelOne.add(Bidirectional(LSTM(32,activation='relu',return_sequences=False,recurrent_dropout=0.2,kernel_regularizer = regularizers.L2(0.02),kernel_initializer='he_uniform', kernel_constraint=MaxNorm(2),name='BiLSTM_Layer2')))\n",
        "modelOne.add(Bidirectional(LSTM(64,activation='relu',return_sequences=False,recurrent_dropout=0.2,name='BiLSTM_Layer2')))\n",
        "#modelOne.add(Dropout(0.3))\n",
        "modelOne.add(Dense(1,activation='sigmoid',name='Output_Layer'))\n",
        "modelOne.summary()"
      ]
    },
    {
      "cell_type": "code",
      "execution_count": 29,
      "metadata": {
        "colab": {
          "base_uri": "https://localhost:8080/",
          "height": 754
        },
        "id": "CZ7slmgggSeu",
        "outputId": "2c29008c-4ee4-4119-c134-19bc65c3e3b1"
      },
      "outputs": [
        {
          "output_type": "execute_result",
          "data": {
            "image/png": "[encoded data removed]",
            "text/plain": [
              "<IPython.core.display.Image object>"
            ]
          },
          "metadata": {},
          "execution_count": 29
        }
      ],
      "source": [
        "import tensorflow as tf\n",
        "from tensorflow.keras.utils import plot_model\n",
        "plot_model(modelOne,show_shapes=True, show_layer_names=True)"
      ]
    },
    {
      "cell_type": "markdown",
      "metadata": {
        "id": "FBe0Hu3wxoWy"
      },
      "source": [
        "**Training the BiLSTM Model**\n"
      ]
    },
    {
      "cell_type": "code",
      "execution_count": null,
      "metadata": {
        "id": "zGxMug9RPKXt"
      },
      "outputs": [],
      "source": [
        "import tensorflow as tf\n",
        "\n",
        "LR_MAX = 0.00002\n",
        "LR_MIN = 0.00001\n",
        "LR_EXP_DECAY = 0.85\n",
        "\n",
        "def lrfn(epoch):\n",
        "    lr = (LR_MAX - LR_MIN) * LR_EXP_DECAY**(epoch) + LR_MIN\n",
        "    return lr\n",
        "\n",
        "    \n",
        "lr_callback = tf.keras.callbacks.LearningRateScheduler(lrfn, verbose = True)"
      ]
    },
    {
      "cell_type": "code",
      "execution_count": null,
      "metadata": {
        "id": "jepg6ngG3hZv"
      },
      "outputs": [],
      "source": [
        "from keras.callbacks import EarlyStopping, ModelCheckpoint\n",
        "\n",
        "es= EarlyStopping(monitor='val_loss',mode='min',verbose=1, patience=2)\n",
        "mc=ModelCheckpoint('./model.h5',monitor='val_accuracy',mode='max',save_best_only=True)"
      ]
    },
    {
      "cell_type": "code",
      "execution_count": 30,
      "metadata": {
        "id": "sVZPQnccrNT7"
      },
      "outputs": [],
      "source": [
        "#from keras.optimizers import adam_v2\n",
        "#from keras.optimizers import gradient_descent_v2\n",
        " #opt=adam_v2.Adam(clipnorm=1, clipvalue=1)\n",
        "#sgd=gradient_descent_v2.SGD(learning_rate=0.00001,decay=1e-6)\n",
        "\n",
        "optimizer = tf.keras.optimizers.Adam(learning_rate=0.0001)\n",
        "modelOne.compile(optimizer=optimizer, loss='binary_crossentropy',metrics=['accuracy'])"
      ]
    },
    {
      "cell_type": "code",
      "execution_count": 31,
      "metadata": {
        "colab": {
          "base_uri": "https://localhost:8080/"
        },
        "id": "KY9t_ffk12Lj",
        "outputId": "d883ee34-798d-4a7e-a7f6-8c4eac1b6253"
      },
      "outputs": [
        {
          "output_type": "stream",
          "name": "stdout",
          "text": [
            "Epoch 1/70\n",
            "9/9 - 71s - loss: 0.6933 - accuracy: 0.4876 - val_loss: 0.6930 - val_accuracy: 0.5019 - 71s/epoch - 8s/step\n",
            "Epoch 2/70\n",
            "9/9 - 54s - loss: 0.6930 - accuracy: 0.5079 - val_loss: 0.6928 - val_accuracy: 0.5284 - 54s/epoch - 6s/step\n",
            "Epoch 3/70\n",
            "9/9 - 55s - loss: 0.6928 - accuracy: 0.5302 - val_loss: 0.6925 - val_accuracy: 0.5501 - 55s/epoch - 6s/step\n",
            "Epoch 4/70\n",
            "9/9 - 55s - loss: 0.6925 - accuracy: 0.5449 - val_loss: 0.6920 - val_accuracy: 0.5647 - 55s/epoch - 6s/step\n",
            "Epoch 5/70\n",
            "9/9 - 66s - loss: 0.6920 - accuracy: 0.5481 - val_loss: 0.6914 - val_accuracy: 0.5685 - 66s/epoch - 7s/step\n",
            "Epoch 6/70\n",
            "9/9 - 58s - loss: 0.6914 - accuracy: 0.5584 - val_loss: 0.6905 - val_accuracy: 0.5779 - 58s/epoch - 6s/step\n",
            "Epoch 7/70\n",
            "9/9 - 58s - loss: 0.6904 - accuracy: 0.5631 - val_loss: 0.6890 - val_accuracy: 0.5898 - 58s/epoch - 6s/step\n",
            "Epoch 8/70\n",
            "9/9 - 59s - loss: 0.6887 - accuracy: 0.5792 - val_loss: 0.6867 - val_accuracy: 0.5980 - 59s/epoch - 7s/step\n",
            "Epoch 9/70\n",
            "9/9 - 56s - loss: 0.6863 - accuracy: 0.5877 - val_loss: 0.6832 - val_accuracy: 0.6052 - 56s/epoch - 6s/step\n",
            "Epoch 10/70\n",
            "9/9 - 59s - loss: 0.6824 - accuracy: 0.5922 - val_loss: 0.6778 - val_accuracy: 0.6103 - 59s/epoch - 7s/step\n",
            "Epoch 11/70\n",
            "9/9 - 60s - loss: 0.6765 - accuracy: 0.5986 - val_loss: 0.6700 - val_accuracy: 0.6206 - 60s/epoch - 7s/step\n",
            "Epoch 12/70\n",
            "9/9 - 60s - loss: 0.6693 - accuracy: 0.6080 - val_loss: 0.6610 - val_accuracy: 0.6257 - 60s/epoch - 7s/step\n",
            "Epoch 13/70\n",
            "9/9 - 59s - loss: 0.6623 - accuracy: 0.6100 - val_loss: 0.6534 - val_accuracy: 0.6244 - 59s/epoch - 7s/step\n",
            "Epoch 14/70\n",
            "9/9 - 60s - loss: 0.6568 - accuracy: 0.6185 - val_loss: 0.6483 - val_accuracy: 0.6291 - 60s/epoch - 7s/step\n",
            "Epoch 15/70\n",
            "9/9 - 60s - loss: 0.6533 - accuracy: 0.6230 - val_loss: 0.6447 - val_accuracy: 0.6312 - 60s/epoch - 7s/step\n",
            "Epoch 16/70\n",
            "9/9 - 57s - loss: 0.6487 - accuracy: 0.6288 - val_loss: 0.6408 - val_accuracy: 0.6376 - 57s/epoch - 6s/step\n",
            "Epoch 17/70\n",
            "9/9 - 59s - loss: 0.6451 - accuracy: 0.6316 - val_loss: 0.6379 - val_accuracy: 0.6479 - 59s/epoch - 7s/step\n",
            "Epoch 18/70\n",
            "9/9 - 56s - loss: 0.6418 - accuracy: 0.6383 - val_loss: 0.6342 - val_accuracy: 0.6436 - 56s/epoch - 6s/step\n",
            "Epoch 19/70\n",
            "9/9 - 58s - loss: 0.6385 - accuracy: 0.6433 - val_loss: 0.6313 - val_accuracy: 0.6449 - 58s/epoch - 6s/step\n",
            "Epoch 20/70\n",
            "9/9 - 56s - loss: 0.6353 - accuracy: 0.6453 - val_loss: 0.6281 - val_accuracy: 0.6500 - 56s/epoch - 6s/step\n",
            "Epoch 21/70\n",
            "9/9 - 56s - loss: 0.6322 - accuracy: 0.6468 - val_loss: 0.6251 - val_accuracy: 0.6543 - 56s/epoch - 6s/step\n",
            "Epoch 22/70\n",
            "9/9 - 55s - loss: 0.6291 - accuracy: 0.6508 - val_loss: 0.6226 - val_accuracy: 0.6556 - 55s/epoch - 6s/step\n",
            "Epoch 23/70\n",
            "9/9 - 54s - loss: 0.6265 - accuracy: 0.6520 - val_loss: 0.6201 - val_accuracy: 0.6560 - 54s/epoch - 6s/step\n",
            "Epoch 24/70\n",
            "9/9 - 55s - loss: 0.6240 - accuracy: 0.6535 - val_loss: 0.6181 - val_accuracy: 0.6577 - 55s/epoch - 6s/step\n",
            "Epoch 25/70\n",
            "9/9 - 54s - loss: 0.6217 - accuracy: 0.6569 - val_loss: 0.6163 - val_accuracy: 0.6556 - 54s/epoch - 6s/step\n",
            "Epoch 26/70\n",
            "9/9 - 55s - loss: 0.6190 - accuracy: 0.6602 - val_loss: 0.6143 - val_accuracy: 0.6598 - 55s/epoch - 6s/step\n",
            "Epoch 27/70\n",
            "9/9 - 56s - loss: 0.6170 - accuracy: 0.6620 - val_loss: 0.6125 - val_accuracy: 0.6633 - 56s/epoch - 6s/step\n",
            "Epoch 28/70\n",
            "9/9 - 59s - loss: 0.6151 - accuracy: 0.6628 - val_loss: 0.6109 - val_accuracy: 0.6637 - 59s/epoch - 7s/step\n",
            "Epoch 29/70\n",
            "9/9 - 58s - loss: 0.6130 - accuracy: 0.6655 - val_loss: 0.6093 - val_accuracy: 0.6615 - 58s/epoch - 6s/step\n",
            "Epoch 30/70\n",
            "9/9 - 59s - loss: 0.6118 - accuracy: 0.6659 - val_loss: 0.6077 - val_accuracy: 0.6671 - 59s/epoch - 7s/step\n",
            "Epoch 31/70\n",
            "9/9 - 59s - loss: 0.6094 - accuracy: 0.6675 - val_loss: 0.6065 - val_accuracy: 0.6654 - 59s/epoch - 7s/step\n",
            "Epoch 32/70\n",
            "9/9 - 58s - loss: 0.6079 - accuracy: 0.6704 - val_loss: 0.6056 - val_accuracy: 0.6748 - 58s/epoch - 6s/step\n",
            "Epoch 33/70\n",
            "9/9 - 59s - loss: 0.6067 - accuracy: 0.6722 - val_loss: 0.6041 - val_accuracy: 0.6786 - 59s/epoch - 7s/step\n",
            "Epoch 34/70\n",
            "9/9 - 59s - loss: 0.6049 - accuracy: 0.6727 - val_loss: 0.6034 - val_accuracy: 0.6722 - 59s/epoch - 7s/step\n",
            "Epoch 35/70\n",
            "9/9 - 55s - loss: 0.6023 - accuracy: 0.6755 - val_loss: 0.6021 - val_accuracy: 0.6752 - 55s/epoch - 6s/step\n",
            "Epoch 36/70\n",
            "9/9 - 57s - loss: 0.6015 - accuracy: 0.6760 - val_loss: 0.6011 - val_accuracy: 0.6790 - 57s/epoch - 6s/step\n",
            "Epoch 37/70\n",
            "9/9 - 59s - loss: 0.6003 - accuracy: 0.6773 - val_loss: 0.6009 - val_accuracy: 0.6790 - 59s/epoch - 7s/step\n",
            "Epoch 38/70\n",
            "9/9 - 55s - loss: 0.6007 - accuracy: 0.6765 - val_loss: 0.6010 - val_accuracy: 0.6790 - 55s/epoch - 6s/step\n",
            "Epoch 39/70\n",
            "9/9 - 59s - loss: 0.5997 - accuracy: 0.6799 - val_loss: 0.5988 - val_accuracy: 0.6795 - 59s/epoch - 7s/step\n",
            "Epoch 40/70\n",
            "9/9 - 59s - loss: 0.5985 - accuracy: 0.6785 - val_loss: 0.5986 - val_accuracy: 0.6859 - 59s/epoch - 7s/step\n",
            "Epoch 41/70\n",
            "9/9 - 59s - loss: 0.5962 - accuracy: 0.6806 - val_loss: 0.5981 - val_accuracy: 0.6863 - 59s/epoch - 7s/step\n",
            "Epoch 42/70\n",
            "9/9 - 60s - loss: 0.5959 - accuracy: 0.6799 - val_loss: 0.5972 - val_accuracy: 0.6812 - 60s/epoch - 7s/step\n",
            "Epoch 43/70\n",
            "9/9 - 60s - loss: 0.5941 - accuracy: 0.6816 - val_loss: 0.5972 - val_accuracy: 0.6816 - 60s/epoch - 7s/step\n",
            "Epoch 44/70\n",
            "9/9 - 58s - loss: 0.5927 - accuracy: 0.6844 - val_loss: 0.5974 - val_accuracy: 0.6833 - 58s/epoch - 6s/step\n",
            "Epoch 45/70\n",
            "9/9 - 58s - loss: 0.5919 - accuracy: 0.6849 - val_loss: 0.5955 - val_accuracy: 0.6846 - 58s/epoch - 6s/step\n",
            "Epoch 46/70\n",
            "9/9 - 55s - loss: 0.5913 - accuracy: 0.6858 - val_loss: 0.5949 - val_accuracy: 0.6897 - 55s/epoch - 6s/step\n",
            "Epoch 47/70\n",
            "9/9 - 56s - loss: 0.5905 - accuracy: 0.6843 - val_loss: 0.5946 - val_accuracy: 0.6931 - 56s/epoch - 6s/step\n",
            "Epoch 48/70\n",
            "9/9 - 56s - loss: 0.5901 - accuracy: 0.6863 - val_loss: 0.5942 - val_accuracy: 0.6820 - 56s/epoch - 6s/step\n",
            "Epoch 49/70\n",
            "9/9 - 56s - loss: 0.5891 - accuracy: 0.6885 - val_loss: 0.5939 - val_accuracy: 0.6825 - 56s/epoch - 6s/step\n",
            "Epoch 50/70\n",
            "9/9 - 54s - loss: 0.5881 - accuracy: 0.6896 - val_loss: 0.5935 - val_accuracy: 0.6842 - 54s/epoch - 6s/step\n",
            "Epoch 51/70\n",
            "9/9 - 53s - loss: 0.5877 - accuracy: 0.6884 - val_loss: 0.5932 - val_accuracy: 0.6859 - 53s/epoch - 6s/step\n",
            "Epoch 52/70\n",
            "9/9 - 53s - loss: 0.5869 - accuracy: 0.6893 - val_loss: 0.5932 - val_accuracy: 0.6837 - 53s/epoch - 6s/step\n",
            "Epoch 53/70\n",
            "9/9 - 55s - loss: 0.5861 - accuracy: 0.6893 - val_loss: 0.5920 - val_accuracy: 0.6893 - 55s/epoch - 6s/step\n",
            "Epoch 54/70\n",
            "9/9 - 56s - loss: 0.5862 - accuracy: 0.6910 - val_loss: 0.5918 - val_accuracy: 0.6893 - 56s/epoch - 6s/step\n",
            "Epoch 55/70\n",
            "9/9 - 55s - loss: 0.5849 - accuracy: 0.6921 - val_loss: 0.5923 - val_accuracy: 0.6872 - 55s/epoch - 6s/step\n",
            "Epoch 56/70\n",
            "9/9 - 55s - loss: 0.5851 - accuracy: 0.6912 - val_loss: 0.5912 - val_accuracy: 0.6872 - 55s/epoch - 6s/step\n",
            "Epoch 57/70\n",
            "9/9 - 56s - loss: 0.5830 - accuracy: 0.6939 - val_loss: 0.5908 - val_accuracy: 0.6872 - 56s/epoch - 6s/step\n",
            "Epoch 58/70\n",
            "9/9 - 56s - loss: 0.5835 - accuracy: 0.6907 - val_loss: 0.5909 - val_accuracy: 0.6889 - 56s/epoch - 6s/step\n",
            "Epoch 59/70\n",
            "9/9 - 54s - loss: 0.5828 - accuracy: 0.6929 - val_loss: 0.5897 - val_accuracy: 0.6872 - 54s/epoch - 6s/step\n",
            "Epoch 60/70\n",
            "9/9 - 54s - loss: 0.5818 - accuracy: 0.6939 - val_loss: 0.5903 - val_accuracy: 0.6893 - 54s/epoch - 6s/step\n",
            "Epoch 61/70\n",
            "9/9 - 54s - loss: 0.5806 - accuracy: 0.6953 - val_loss: 0.5894 - val_accuracy: 0.6914 - 54s/epoch - 6s/step\n",
            "Epoch 62/70\n",
            "9/9 - 55s - loss: 0.5803 - accuracy: 0.6946 - val_loss: 0.5891 - val_accuracy: 0.6918 - 55s/epoch - 6s/step\n",
            "Epoch 63/70\n",
            "9/9 - 55s - loss: 0.5802 - accuracy: 0.6959 - val_loss: 0.5887 - val_accuracy: 0.6931 - 55s/epoch - 6s/step\n",
            "Epoch 64/70\n",
            "9/9 - 54s - loss: 0.5787 - accuracy: 0.6957 - val_loss: 0.5890 - val_accuracy: 0.6948 - 54s/epoch - 6s/step\n",
            "Epoch 65/70\n",
            "9/9 - 53s - loss: 0.5788 - accuracy: 0.6949 - val_loss: 0.5879 - val_accuracy: 0.6957 - 53s/epoch - 6s/step\n",
            "Epoch 66/70\n",
            "9/9 - 54s - loss: 0.5794 - accuracy: 0.6962 - val_loss: 0.5882 - val_accuracy: 0.6957 - 54s/epoch - 6s/step\n",
            "Epoch 67/70\n",
            "9/9 - 53s - loss: 0.5777 - accuracy: 0.6965 - val_loss: 0.5871 - val_accuracy: 0.6923 - 53s/epoch - 6s/step\n",
            "Epoch 68/70\n",
            "9/9 - 53s - loss: 0.5790 - accuracy: 0.6947 - val_loss: 0.5867 - val_accuracy: 0.6953 - 53s/epoch - 6s/step\n",
            "Epoch 69/70\n",
            "9/9 - 55s - loss: 0.5770 - accuracy: 0.6982 - val_loss: 0.5872 - val_accuracy: 0.6974 - 55s/epoch - 6s/step\n",
            "Epoch 70/70\n",
            "9/9 - 53s - loss: 0.5765 - accuracy: 0.6990 - val_loss: 0.5871 - val_accuracy: 0.6983 - 53s/epoch - 6s/step\n",
            "Time elapsed in training:3992.40\n"
          ]
        }
      ],
      "source": [
        "import time\n",
        "\n",
        "start =time.time()\n",
        "history = modelOne.fit(padded_training, y_train, epochs=70, batch_size = 5000, validation_data=(padded_validation,y_validation),verbose=2) \n",
        "#history = modelOne.fit(padded_training, y_train, epochs=70, batch_size = 5000, validation_data=(padded_validation,y_validation),callbacks = [lr_callback],verbose=2) \n",
        "#history = modelOne.fit(padded_training, y_train, epochs=50, batch_size = 5000, validation_data=(padded_validation,y_validation),callbacks=[es,mc],verbose=2) \n",
        "#history = modelOne.fit(padded_training,y_train,batch_size=batch_size,epochs=100,steps_per_epoch=int(padded_training.shape[0]/batch_size), validation_data=(padded_validation,y_validation),verbose=1)\n",
        "\n",
        "end= time.time()\n",
        "print(\"Time elapsed in training:%.2f\" %(end-start))"
      ]
    },
    {
      "cell_type": "code",
      "execution_count": 32,
      "metadata": {
        "colab": {
          "base_uri": "https://localhost:8080/",
          "height": 295
        },
        "id": "FSMOjTWyKiKy",
        "outputId": "8707dc67-1dc6-4352-8df4-0f42f5cbeee8"
      },
      "outputs": [
        {
          "output_type": "display_data",
          "data": {
            "text/plain": [
              "<Figure size 432x288 with 1 Axes>"
            ],
            "image/png": "[encoded data removed]"
          },
          "metadata": {
            "needs_background": "light"
          }
        }
      ],
      "source": [
        "#Plot the learning Curve\n",
        "plt.plot(history.history['accuracy'])\n",
        "plt.plot(history.history['val_accuracy'])\n",
        "plt.title('2-Stacked BiLSTM Model Accuracy')\n",
        "plt.ylabel('Accuracy')\n",
        "plt.xlabel('No. of Epochs ')\n",
        "plt.legend(['Training','Validation'],loc='best')\n",
        "plt.show()"
      ]
    },
    {
      "cell_type": "code",
      "execution_count": 33,
      "metadata": {
        "colab": {
          "base_uri": "https://localhost:8080/",
          "height": 295
        },
        "id": "Bppos_KpFTEV",
        "outputId": "da920cb5-b9aa-4ca8-9d65-da5b8b995ba8"
      },
      "outputs": [
        {
          "output_type": "display_data",
          "data": {
            "text/plain": [
              "<Figure size 432x288 with 1 Axes>"
            ],
            "image/png": "[encoded data removed]"
          },
          "metadata": {
            "needs_background": "light"
          }
        }
      ],
      "source": [
        "plt.plot(history.history['loss'],label='training data')\n",
        "plt.plot(history.history['val_loss'],label='validation data')\n",
        "plt.title('2-Stacked BiLSTM Model Loss')\n",
        "plt.ylabel('Loss Value')\n",
        "plt.xlabel('No. of Epochs ')\n",
        "plt.legend(loc='upper right')\n",
        "plt.show()"
      ]
    },
    {
      "cell_type": "markdown",
      "metadata": {
        "id": "9VT4J4ZpDTCr"
      },
      "source": [
        "#**Evaluation**"
      ]
    },
    {
      "cell_type": "code",
      "execution_count": 34,
      "metadata": {
        "colab": {
          "base_uri": "https://localhost:8080/",
          "height": 478
        },
        "id": "Mz8RV2fuESD7",
        "outputId": "e78df1b7-88f9-4ae2-d88e-b7a38d4836c6"
      },
      "outputs": [
        {
          "output_type": "stream",
          "name": "stdout",
          "text": [
            "              precision    recall  f1-score   support\n",
            "\n",
            "           0       0.66      0.72      0.69      1148\n",
            "           1       0.71      0.65      0.68      1195\n",
            "\n",
            "    accuracy                           0.68      2343\n",
            "   macro avg       0.69      0.68      0.68      2343\n",
            "weighted avg       0.69      0.68      0.68      2343\n",
            "\n"
          ]
        },
        {
          "output_type": "execute_result",
          "data": {
            "text/plain": [
              "[Text(0, 0.5, 'Positive'), Text(0, 1.5, 'Negative')]"
            ]
          },
          "metadata": {},
          "execution_count": 34
        },
        {
          "output_type": "display_data",
          "data": {
            "text/plain": [
              "<Figure size 432x288 with 2 Axes>"
            ],
            "image/png": "[encoded data removed]"
          },
          "metadata": {
            "needs_background": "light"
          }
        }
      ],
      "source": [
        "from sklearn.metrics import confusion_matrix\n",
        "from sklearn.metrics import classification_report\n",
        "\n",
        "ax=plt.subplot()\n",
        "y_predict = modelOne.predict(padded_testing)\n",
        "y_predict = np.where((y_predict) > 0.5,1,0)\n",
        "print(classification_report(y_test,y_predict))\n",
        "\n",
        "cm= confusion_matrix(y_test,y_predict)\n",
        "sns.heatmap(cm, annot=True, fmt='d', ax= ax,cmap=plt.cm.Greens) #annotate cells\n",
        "\n",
        "ax.set_xlabel('Predicted labels');ax.set_ylabel('Actual labels');\n",
        "ax.set_title('Confusion Matrix');\n",
        "ax.xaxis.set_ticklabels(['Positive','Negative']);ax.yaxis.set_ticklabels(['Positive','Negative'])\n",
        "\n"
      ]
    },
    {
      "cell_type": "markdown",
      "metadata": {
        "id": "5tlD_1uFRKAh"
      },
      "source": [
        "#**Prediction**"
      ]
    },
    {
      "cell_type": "code",
      "execution_count": 36,
      "metadata": {
        "colab": {
          "base_uri": "https://localhost:8080/",
          "height": 206
        },
        "id": "pV7FtHtYNTOD",
        "outputId": "3facbffa-9293-4b6b-b510-72b3962ddc2a"
      },
      "outputs": [
        {
          "output_type": "execute_result",
          "data": {
            "text/plain": [
              "   Predicted  Actual                                             Review\n",
              "0          1       0  ang mga tawo anha na lang molakaw sa karsada n...\n",
              "1          0       0  kini ang hinungdan kun ngano nga ang tawo mahi...\n",
              "2          1       1  hinuon dili sama ang sugbo sa metro manila dii...\n",
              "3          1       1  bisag sa sabakan pa lamang dayag na ang pagkal...\n",
              "4          0       1  lami kaayong paminawon mga higala nga itagbo k..."
            ],
            "text/html": [
              "\n",
              "  <div id=\"df-1e91f8c2-c26e-4043-90ac-9d0c3e46ecdd\">\n",
              "    <div class=\"colab-df-container\">\n",
              "      <div>\n",
              "<style scoped>\n",
              "    .dataframe tbody tr th:only-of-type {\n",
              "        vertical-align: middle;\n",
              "    }\n",
              "\n",
              "    .dataframe tbody tr th {\n",
              "        vertical-align: top;\n",
              "    }\n",
              "\n",
              "    .dataframe thead th {\n",
              "        text-align: right;\n",
              "    }\n",
              "</style>\n",
              "<table border=\"1\" class=\"dataframe\">\n",
              "  <thead>\n",
              "    <tr style=\"text-align: right;\">\n",
              "      <th></th>\n",
              "      <th>Predicted</th>\n",
              "      <th>Actual</th>\n",
              "      <th>Review</th>\n",
              "    </tr>\n",
              "  </thead>\n",
              "  <tbody>\n",
              "    <tr>\n",
              "      <th>0</th>\n",
              "      <td>1</td>\n",
              "      <td>0</td>\n",
              "      <td>ang mga tawo anha na lang molakaw sa karsada n...</td>\n",
              "    </tr>\n",
              "    <tr>\n",
              "      <th>1</th>\n",
              "      <td>0</td>\n",
              "      <td>0</td>\n",
              "      <td>kini ang hinungdan kun ngano nga ang tawo mahi...</td>\n",
              "    </tr>\n",
              "    <tr>\n",
              "      <th>2</th>\n",
              "      <td>1</td>\n",
              "      <td>1</td>\n",
              "      <td>hinuon dili sama ang sugbo sa metro manila dii...</td>\n",
              "    </tr>\n",
              "    <tr>\n",
              "      <th>3</th>\n",
              "      <td>1</td>\n",
              "      <td>1</td>\n",
              "      <td>bisag sa sabakan pa lamang dayag na ang pagkal...</td>\n",
              "    </tr>\n",
              "    <tr>\n",
              "      <th>4</th>\n",
              "      <td>0</td>\n",
              "      <td>1</td>\n",
              "      <td>lami kaayong paminawon mga higala nga itagbo k...</td>\n",
              "    </tr>\n",
              "  </tbody>\n",
              "</table>\n",
              "</div>\n",
              "      <button class=\"colab-df-convert\" onclick=\"convertToInteractive('df-1e91f8c2-c26e-4043-90ac-9d0c3e46ecdd')\"\n",
              "              title=\"Convert this dataframe to an interactive table.\"\n",
              "              style=\"display:none;\">\n",
              "        \n",
              "  <svg xmlns=\"http://www.w3.org/2000/svg\" height=\"24px\"viewBox=\"0 0 24 24\"\n",
              "       width=\"24px\">\n",
              "    <path d=\"M0 0h24v24H0V0z\" fill=\"none\"/>\n",
              "    <path d=\"M18.56 5.44l.94 2.06.94-2.06 2.06-.94-2.06-.94-.94-2.06-.94 2.06-2.06.94zm-11 1L8.5 8.5l.94-2.06 2.06-.94-2.06-.94L8.5 2.5l-.94 2.06-2.06.94zm10 10l.94 2.06.94-2.06 2.06-.94-2.06-.94-.94-2.06-.94 2.06-2.06.94z\"/><path d=\"M17.41 7.96l-1.37-1.37c-.4-.4-.92-.59-1.43-.59-.52 0-1.04.2-1.43.59L10.3 9.45l-7.72 7.72c-.78.78-.78 2.05 0 2.83L4 21.41c.39.39.9.59 1.41.59.51 0 1.02-.2 1.41-.59l7.78-7.78 2.81-2.81c.8-.78.8-2.07 0-2.86zM5.41 20L4 18.59l7.72-7.72 1.47 1.35L5.41 20z\"/>\n",
              "  </svg>\n",
              "      </button>\n",
              "      \n",
              "  <style>\n",
              "    .colab-df-container {\n",
              "      display:flex;\n",
              "      flex-wrap:wrap;\n",
              "      gap: 12px;\n",
              "    }\n",
              "\n",
              "    .colab-df-convert {\n",
              "      background-color: #E8F0FE;\n",
              "      border: none;\n",
              "      border-radius: 50%;\n",
              "      cursor: pointer;\n",
              "      display: none;\n",
              "      fill: #1967D2;\n",
              "      height: 32px;\n",
              "      padding: 0 0 0 0;\n",
              "      width: 32px;\n",
              "    }\n",
              "\n",
              "    .colab-df-convert:hover {\n",
              "      background-color: #E2EBFA;\n",
              "      box-shadow: 0px 1px 2px rgba(60, 64, 67, 0.3), 0px 1px 3px 1px rgba(60, 64, 67, 0.15);\n",
              "      fill: #174EA6;\n",
              "    }\n",
              "\n",
              "    [theme=dark] .colab-df-convert {\n",
              "      background-color: #3B4455;\n",
              "      fill: #D2E3FC;\n",
              "    }\n",
              "\n",
              "    [theme=dark] .colab-df-convert:hover {\n",
              "      background-color: #434B5C;\n",
              "      box-shadow: 0px 1px 3px 1px rgba(0, 0, 0, 0.15);\n",
              "      filter: drop-shadow(0px 1px 2px rgba(0, 0, 0, 0.3));\n",
              "      fill: #FFFFFF;\n",
              "    }\n",
              "  </style>\n",
              "\n",
              "      <script>\n",
              "        const buttonEl =\n",
              "          document.querySelector('#df-1e91f8c2-c26e-4043-90ac-9d0c3e46ecdd button.colab-df-convert');\n",
              "        buttonEl.style.display =\n",
              "          google.colab.kernel.accessAllowed ? 'block' : 'none';\n",
              "\n",
              "        async function convertToInteractive(key) {\n",
              "          const element = document.querySelector('#df-1e91f8c2-c26e-4043-90ac-9d0c3e46ecdd');\n",
              "          const dataTable =\n",
              "            await google.colab.kernel.invokeFunction('convertToInteractive',\n",
              "                                                     [key], {});\n",
              "          if (!dataTable) return;\n",
              "\n",
              "          const docLinkHtml = 'Like what you see? Visit the ' +\n",
              "            '<a target=\"_blank\" href=https://colab.research.google.com/notebooks/data_table.ipynb>data table notebook</a>'\n",
              "            + ' to learn more about interactive tables.';\n",
              "          element.innerHTML = '';\n",
              "          dataTable['output_type'] = 'display_data';\n",
              "          await google.colab.output.renderOutput(dataTable, element);\n",
              "          const docLink = document.createElement('div');\n",
              "          docLink.innerHTML = docLinkHtml;\n",
              "          element.appendChild(docLink);\n",
              "        }\n",
              "      </script>\n",
              "    </div>\n",
              "  </div>\n",
              "  "
            ]
          },
          "metadata": {},
          "execution_count": 36
        }
      ],
      "source": [
        "#Generating prediction in all sample test data\n",
        "data=pd.DataFrame(np.c_[y_predict,y_test], columns=[\"Predicted\",\"Actual\"])\n",
        "data['Review'] = X_test\n",
        "data['Predicted'] = y_predict\n",
        "data['Predicted'] = np.where((data.Predicted >0.5),1,(data.Predicted).astype(int))\n",
        "data['Predicted'] = np.where((data.Predicted < 0.5),0,(data.Predicted).astype(int))\n",
        "\n",
        "data.head(5)"
      ]
    },
    {
      "cell_type": "code",
      "source": [
        "data.to_csv(r'/content/drive/MyDrive/Colab Notebooks/data/sentinotated.csv', index=False)"
      ],
      "metadata": {
        "id": "aWVE6-Apzyvh"
      },
      "execution_count": 38,
      "outputs": []
    },
    {
      "cell_type": "code",
      "execution_count": 40,
      "metadata": {
        "id": "5gY9VUtFRJLX"
      },
      "outputs": [],
      "source": [
        "#Classifying real text\n",
        "#from tensorflow.keras.preprocessing.text import Tokenizer\n",
        "\n",
        "def predict_sentiment(sentence):\n",
        "  sentence_lst=[]\n",
        "  sentence_lst.append(sentence)\n",
        " # tokenizer = Tokenizer()\n",
        "  sentence_sequence=tokenizer.texts_to_sequences(sentence_lst)\n",
        "  padded_sentence = pad_sequences(sentence_sequence,maxlen=sentence_length,padding='post')\n",
        "  probability=modelOne.predict(padded_sentence)[0][0]\n",
        "  if probability >0.5:\n",
        "    print(f'POSITIVE {np.round(probability*100,2)}%')\n",
        "  else:\n",
        "    print(f'NEGATIVE {100-(np.round(probability *100,2))}%')\n",
        "   \n"
      ]
    },
    {
      "cell_type": "code",
      "execution_count": 42,
      "metadata": {
        "colab": {
          "base_uri": "https://localhost:8080/"
        },
        "id": "iy33dNnIQ45A",
        "outputId": "b7d5481a-495a-4b07-c2bb-14d8802bbd7d"
      },
      "outputs": [
        {
          "output_type": "stream",
          "name": "stdout",
          "text": [
            "Enter the sentence: basi sa mga impormasyon nga gipanghisgutan sa pipila ka brodkaster maayo baya ang negusyo niining zafra\n",
            "POSITIVE 57.68%\n"
          ]
        }
      ],
      "source": [
        "predict_sentiment(str(input(\"Enter the sentence: \")))"
      ]
    },
    {
      "cell_type": "markdown",
      "metadata": {
        "id": "_NnL4fr6fcVH"
      },
      "source": [
        "**================================================== END ===============================================**"
      ]
    },
    {
      "cell_type": "code",
      "execution_count": null,
      "metadata": {
        "id": "YYUh1r_ZfIW_"
      },
      "outputs": [],
      "source": []
    },
    {
      "cell_type": "code",
      "execution_count": 39,
      "metadata": {
        "colab": {
          "base_uri": "https://localhost:8080/"
        },
        "id": "RiYAQyrXHMJ8",
        "outputId": "fd0c8e48-d42a-4ab8-fab5-2e603c54f71c"
      },
      "outputs": [
        {
          "output_type": "stream",
          "name": "stdout",
          "text": [
            "Train split\n",
            "Accuracy: 70.345777\n",
            "Loss : 57.022387\n",
            "------------------------\n",
            "Validation split\n",
            "Accuracy: 69.825011\n",
            "Loss : 58.708626\n",
            "------------------------\n",
            "Test split:\n",
            "Accuracy: 68.416560\n",
            "Loss : 59.074479\n"
          ]
        }
      ],
      "source": [
        "#keras.evaluate() is for evaluating your trained model. Its output is accuracy or loss, not prediction to your input data.\n",
        "#keras.predict() actually predicts, and its output is target value, predicted from your input data\n",
        "\n",
        "from sklearn.metrics import accuracy_score\n",
        "\n",
        "#Evaluation from each split\n",
        "print('Train split')\n",
        "loss, accuracy = modelOne.evaluate(padded_training, y_train, verbose=0)\n",
        "#accuracy = accuracy_score(y_test, y_predict)\n",
        "print('Accuracy: %f' % (accuracy*100))\n",
        "print('Loss : %f' % (loss*100))\n",
        "print('------------------------')\n",
        "\n",
        "\n",
        "print('Validation split')\n",
        "loss, accuracy = modelOne.evaluate(padded_validation, y_validation, verbose=0)\n",
        "print('Accuracy: %f' % (accuracy*100))\n",
        "print('Loss : %f' % (loss*100))\n",
        "print('------------------------')\n",
        "\n",
        "print('Test split:')\n",
        "loss, accuracy = modelOne.evaluate(padded_testing, y_test, verbose=0)\n",
        "print('Accuracy: %f' % (accuracy*100))\n",
        "print('Loss : %f' % (loss*100))"
      ]
    },
    {
      "cell_type": "code",
      "execution_count": null,
      "metadata": {
        "colab": {
          "base_uri": "https://localhost:8080/"
        },
        "id": "mZKeBhBmYgKr",
        "outputId": "6a3ddbb7-b026-49c1-8931-0e44fb457602"
      },
      "outputs": [
        {
          "name": "stdout",
          "output_type": "stream",
          "text": [
            "MOdel Accuracy 0.7119078104993598\n",
            "Model f1 score 0.6960828455650607\n",
            "MOdel Recall 0.6377887788778878\n",
            "Model Precision 0.7661050545094152\n"
          ]
        }
      ],
      "source": [
        "from sklearn.metrics import f1_score,accuracy_score,recall_score,precision_score\n",
        "print(\"MOdel Accuracy\", accuracy_score(y_test, y_predict))\n",
        "print(\"Model f1 score\", f1_score(y_test, y_predict))\n",
        "print(\"MOdel Recall\", recall_score(y_test, y_predict))\n",
        "print(\"Model Precision\",precision_score(y_test, y_predict))\n",
        "\n",
        "\n",
        "#RNNsemicolon\n"
      ]
    },
    {
      "cell_type": "code",
      "execution_count": null,
      "metadata": {
        "colab": {
          "base_uri": "https://localhost:8080/",
          "height": 235
        },
        "id": "Co5-gYW0jZzT",
        "outputId": "e33236ff-47f9-4cdc-b966-894f771243db"
      },
      "outputs": [
        {
          "ename": "NameError",
          "evalue": "ignored",
          "output_type": "error",
          "traceback": [
            "\u001b[0;31m---------------------------------------------------------------------------\u001b[0m",
            "\u001b[0;31mNameError\u001b[0m                                 Traceback (most recent call last)",
            "\u001b[0;32m<ipython-input-39-513b982ae9e5>\u001b[0m in \u001b[0;36m<module>\u001b[0;34m\u001b[0m\n\u001b[1;32m      4\u001b[0m \u001b[0;34m\u001b[0m\u001b[0m\n\u001b[1;32m      5\u001b[0m \u001b[0;31m# allow plots to appear in the notebook\u001b[0m\u001b[0;34m\u001b[0m\u001b[0;34m\u001b[0m\u001b[0;34m\u001b[0m\u001b[0m\n\u001b[0;32m----> 6\u001b[0;31m \u001b[0mplt\u001b[0m\u001b[0;34m.\u001b[0m\u001b[0mhist\u001b[0m\u001b[0;34m(\u001b[0m\u001b[0my_pred_prob\u001b[0m\u001b[0;34m,\u001b[0m \u001b[0mbins\u001b[0m\u001b[0;34m=\u001b[0m\u001b[0;36m8\u001b[0m\u001b[0;34m)\u001b[0m\u001b[0;34m\u001b[0m\u001b[0;34m\u001b[0m\u001b[0m\n\u001b[0m\u001b[1;32m      7\u001b[0m \u001b[0mplt\u001b[0m\u001b[0;34m.\u001b[0m\u001b[0mxlim\u001b[0m\u001b[0;34m(\u001b[0m\u001b[0;36m0\u001b[0m\u001b[0;34m,\u001b[0m \u001b[0;36m1\u001b[0m\u001b[0;34m)\u001b[0m\u001b[0;34m\u001b[0m\u001b[0;34m\u001b[0m\u001b[0m\n\u001b[1;32m      8\u001b[0m \u001b[0mplt\u001b[0m\u001b[0;34m.\u001b[0m\u001b[0mtitle\u001b[0m\u001b[0;34m(\u001b[0m\u001b[0;34m'Histogram of predicted probabilities'\u001b[0m\u001b[0;34m)\u001b[0m\u001b[0;34m\u001b[0m\u001b[0;34m\u001b[0m\u001b[0m\n",
            "\u001b[0;31mNameError\u001b[0m: name 'y_pred_prob' is not defined"
          ]
        }
      ],
      "source": [
        "# histogram of predicted probabilities\n",
        "%matplotlib inline\n",
        "import matplotlib.pyplot as plt\n",
        "\n",
        "# allow plots to appear in the notebook\n",
        "plt.hist(y_pred, bins=8)\n",
        "plt.xlim(0, 1)\n",
        "plt.title('Histogram of predicted probabilities')\n",
        "plt.xlabel('Predicted probability of All Positive Texts')\n",
        "plt.ylabel('Frequency')"
      ]
    }
  ],
  "metadata": {
    "accelerator": "GPU",
    "colab": {
      "collapsed_sections": [
        "zekrDX9mDrNl",
        "9VT4J4ZpDTCr",
        "5tlD_1uFRKAh",
        "EQVI0WjjgTov"
      ],
      "provenance": [],
      "include_colab_link": true
    },
    "kernelspec": {
      "display_name": "Python 3",
      "name": "python3"
    },
    "language_info": {
      "name": "python"
    }
  },
  "nbformat": 4,
  "nbformat_minor": 0
}