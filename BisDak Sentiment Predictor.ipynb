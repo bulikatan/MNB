{
 "cells": [
  {
   "cell_type": "markdown",
   "id": "6e1ad777",
   "metadata": {},
   "source": [
    "<h2>Sentiment Predictions of the Bisaya Language</h2>"
   ]
  },
  {
   "cell_type": "code",
   "execution_count": 1,
   "id": "93d57559",
   "metadata": {},
   "outputs": [],
   "source": [
    "import numpy as np\n",
    "import pandas as pd"
   ]
  },
  {
   "cell_type": "markdown",
   "id": "a01d327f",
   "metadata": {},
   "source": [
    "<h3>Import dataset</h3>"
   ]
  },
  {
   "cell_type": "code",
   "execution_count": 2,
   "id": "357b17da",
   "metadata": {},
   "outputs": [],
   "source": [
    "data=pd.read_csv('D:/MASTERAL/freshosDATA.csv',encoding='utf-8')"
   ]
  },
  {
   "cell_type": "markdown",
   "id": "f44cdf61",
   "metadata": {},
   "source": [
    "<h3>Data Cleaning</h3>"
   ]
  },
  {
   "cell_type": "code",
   "execution_count": 3,
   "id": "7247347b",
   "metadata": {},
   "outputs": [],
   "source": [
    "import string\n",
    "def convert_tolowercase(text):\n",
    "  # Convert all characters to lowercase from list of tokenized words\"\"\"   \n",
    "    new_word = (map(lambda x: x.lower(), text))\n",
    "    new_words = list(new_word)\n",
    "    return new_words"
   ]
  },
  {
   "cell_type": "code",
   "execution_count": 4,
   "id": "b1897762",
   "metadata": {},
   "outputs": [],
   "source": [
    "# The function above takes a pandas series object as input and applies lambda functions which remove numbers\n",
    "import re\n",
    "def remove_digits(text):\n",
    "    new_words = []\n",
    "    for word in text:\n",
    "        new_word=re.sub(r'\\d+','', word)\n",
    "        if new_word != '':\n",
    "            new_words.append(new_word)\n",
    "    return new_words"
   ]
  },
  {
   "cell_type": "code",
   "execution_count": 5,
   "id": "76393f73",
   "metadata": {},
   "outputs": [],
   "source": [
    "import string\n",
    "import unicodedata\n",
    "def remove_non_ascii(words):\n",
    "#\"\"\"Remove non-ASCII characters from list of tokenized words\"\"\"\n",
    "    new_words = []\n",
    "    for word in words:\n",
    "        new_word = unicodedata.normalize('NFKD',word).encode('ascii', 'ignore').decode('utf-8', 'ignore')\n",
    "        new_words.append(new_word)\n",
    "    return new_words"
   ]
  },
  {
   "cell_type": "code",
   "execution_count": 6,
   "id": "8d719237",
   "metadata": {},
   "outputs": [],
   "source": [
    "def remove_punctuations(words):\n",
    "#Remove punctuations make sure all are removed\n",
    "    new_words = []\n",
    "    for word in words:    \n",
    "        \n",
    "       # new_word = re.sub(r\"[-()\\\"#/@;:<>{}=~|.?,&$]!\", \"\", word)\n",
    "        new_word = re.sub('[%s]'%re.escape(string.punctuation),'',word)\n",
    "       # if new_word != '':\n",
    "        new_words.append(new_word)\n",
    "    return new_words"
   ]
  },
  {
   "cell_type": "code",
   "execution_count": 7,
   "id": "1d7e90a0",
   "metadata": {},
   "outputs": [],
   "source": [
    "def remove_singleCharString(words):\n",
    "    new_words = []  \n",
    "    for word in words:\n",
    "        new_word=re.sub(r\"(^| ).(( ).)*( |$)\",' ',word) \n",
    "        if new_word !='':\n",
    "            new_words.append(new_word)\n",
    "    return new_words"
   ]
  },
  {
   "cell_type": "code",
   "execution_count": 8,
   "id": "87fe18c6",
   "metadata": {},
   "outputs": [],
   "source": [
    "data['REVIEWS']=convert_tolowercase(data['REVIEWS'])              \n",
    "data['REVIEWS']=remove_digits(data['REVIEWS'].squeeze())\n",
    "data['REVIEWS']=remove_non_ascii(data['REVIEWS'].squeeze())\n",
    "data['REVIEWS']=remove_punctuations(data['REVIEWS'].squeeze())\n",
    "data['REVIEWS']=remove_singleCharString(data['REVIEWS'].squeeze())"
   ]
  },
  {
   "cell_type": "code",
   "execution_count": 9,
   "id": "b4294a84",
   "metadata": {},
   "outputs": [],
   "source": [
    "import string\n",
    "stopwords=['akong','ako','akong','ang','alang','aquino','alvarez','ato','atong','aron','artemio',\n",
    "           'ba','bisan', 'benigno','bohol',\n",
    "          'calcutta','carlito','carpio','cebu','chiong','china','clavano',\n",
    "           'diay','diha','dihang','dinhi','didto','delima','duha','duterte',\n",
    "           'espenido',\n",
    "           'floirendo',\n",
    "           'nga','ug','og','mga','ila','ilang','reyos','de','los','rama',\n",
    "           'imong','ingon','iyang','isip','usa',\n",
    "           'jovie',\n",
    "           'ka','kaha','kang','karon','karong','kini','kining','kinsa','kay','ko','kun','kon','kung','kristine',\n",
    "           'gani','gud','gyud','gikan',\n",
    "           'mahimo','mahimong','maong','mao','maoy','man','manases','mas','matag','may', 'miaging','michael',\n",
    "           'na','ngadto','ngano','nganong','ni','nia','ning','niini','niining','nila','niadtong','niadto','nako','nato','nimong','niya',\n",
    "           'lang','laing','laoag',\n",
    "           'of','osmena',\n",
    "           'pa','pag','pantaleon','parojinog',\n",
    "           'ricabo','ra','reynaldo','roland',\n",
    "           'sa','sab','samtang','santiago','si','sila','siya','siyang',\n",
    "           'tuig','tomas','tommy',\n",
    "           'unta','unsa','unya','ubang','us','usab',\n",
    "           'paolo','mar','roxas','miriam','jejomar','del','rosario','teresa','tantan',\n",
    "           'sc','sk','fr','sr','supt',\n",
    "          'corazon','jose', 'esgana','simeon', 'III'\n",
    "           ]\n",
    "\n",
    "pat=r'\\b(?:{})\\b'.format('|'.join(stopwords))\n",
    "\n",
    "data['REVIEWS'] = data['REVIEWS'].str.replace(pat,'',regex=True)"
   ]
  },
  {
   "cell_type": "markdown",
   "id": "2477c243",
   "metadata": {},
   "source": [
    "<h3>Data Transformation</h3>"
   ]
  },
  {
   "cell_type": "code",
   "execution_count": 10,
   "id": "110fab0d",
   "metadata": {},
   "outputs": [],
   "source": [
    "import pickle\n",
    "vectorFile='D:/masteral/tfidfSentimentModel.pkl'\n",
    "cv= pickle.load(open(vectorFile, \"rb\"))"
   ]
  },
  {
   "cell_type": "code",
   "execution_count": 13,
   "id": "6aeda96c",
   "metadata": {},
   "outputs": [
    {
     "data": {
      "text/plain": [
       "(22224, 45327)"
      ]
     },
     "execution_count": 13,
     "metadata": {},
     "output_type": "execute_result"
    }
   ],
   "source": [
    "X_fresh=cv.transform(data['REVIEWS'])\n",
    "X_fresh.shape"
   ]
  },
  {
   "cell_type": "code",
   "execution_count": 14,
   "id": "aa48cf38",
   "metadata": {},
   "outputs": [
    {
     "data": {
      "text/plain": [
       "<22224x45327 sparse matrix of type '<class 'numpy.float64'>'\n",
       "\twith 202467 stored elements in Compressed Sparse Row format>"
      ]
     },
     "execution_count": 14,
     "metadata": {},
     "output_type": "execute_result"
    }
   ],
   "source": [
    "X_fresh"
   ]
  },
  {
   "cell_type": "markdown",
   "id": "d0f1afda",
   "metadata": {},
   "source": [
    "<h3>Predictions (via the Bisaya Sentiment Classifier)</h3>"
   ]
  },
  {
   "cell_type": "code",
   "execution_count": 15,
   "id": "a74e38b5",
   "metadata": {},
   "outputs": [],
   "source": [
    "import joblib\n",
    "classifier = joblib.load('D:/masteral/BisayaSenti.model')"
   ]
  },
  {
   "cell_type": "code",
   "execution_count": 16,
   "id": "b05b32e6",
   "metadata": {},
   "outputs": [
    {
     "name": "stdout",
     "output_type": "stream",
     "text": [
      "[1 0 1 ... 0 0 0]\n"
     ]
    }
   ],
   "source": [
    "y_pred = classifier.predict(X_fresh)\n",
    "print(y_pred)"
   ]
  },
  {
   "cell_type": "code",
   "execution_count": 17,
   "id": "1f815ef5",
   "metadata": {},
   "outputs": [
    {
     "data": {
      "text/plain": [
       "<bound method NDFrame.head of                                                  REVIEWS  POLARITY  \\\n",
       "0        anyos  anak  labandera  coanchor  abogado ni...  POSITIVE   \n",
       "1                                    basta kanang klaro   POSITIVE   \n",
       "2       batakang tahas  bagong gilusad  oplan double ...  POSITIVE   \n",
       "3         among kagamay makainpluwensiya baya  kami  ...  POSITIVE   \n",
       "4       tataw   nahitabo  jesus   pagpadayag   pagkadios  POSITIVE   \n",
       "...                                                  ...       ...   \n",
       "22219                 tiaw mo bay tulo  milyon  pamatyon  NEGATIVE   \n",
       "22220  tiaw mo  from top to bottom   opisyal  kawani ...  NEGATIVE   \n",
       "22221  tiaw mo  maghilak  adlaw  way balita   drugist...  NEGATIVE   \n",
       "22222  tiaw mo   sugod  paglingkod  presidente    kal...  NEGATIVE   \n",
       "22223  tiaw mong human daw niyag duslak  makadaghang ...  NEGATIVE   \n",
       "\n",
       "       predicted_label  \n",
       "0                    1  \n",
       "1                    0  \n",
       "2                    1  \n",
       "3                    0  \n",
       "4                    1  \n",
       "...                ...  \n",
       "22219                0  \n",
       "22220                0  \n",
       "22221                0  \n",
       "22222                0  \n",
       "22223                0  \n",
       "\n",
       "[22224 rows x 3 columns]>"
      ]
     },
     "execution_count": 17,
     "metadata": {},
     "output_type": "execute_result"
    }
   ],
   "source": [
    "data['predicted_label']=y_pred.tolist()\n",
    "data.head"
   ]
  },
  {
   "cell_type": "code",
   "execution_count": 18,
   "id": "f6ff4782",
   "metadata": {},
   "outputs": [],
   "source": [
    "data.to_csv(\"D:/masteral/predicted.csv\",encoding='utf-8', index=False)"
   ]
  },
  {
   "cell_type": "code",
   "execution_count": null,
   "id": "a21e07e1",
   "metadata": {},
   "outputs": [],
   "source": []
  }
 ],
 "metadata": {
  "kernelspec": {
   "display_name": "Python 3",
   "language": "python",
   "name": "python3"
  },
  "language_info": {
   "codemirror_mode": {
    "name": "ipython",
    "version": 3
   },
   "file_extension": ".py",
   "mimetype": "text/x-python",
   "name": "python",
   "nbconvert_exporter": "python",
   "pygments_lexer": "ipython3",
   "version": "3.8.8"
  }
 },
 "nbformat": 4,
 "nbformat_minor": 5
}
